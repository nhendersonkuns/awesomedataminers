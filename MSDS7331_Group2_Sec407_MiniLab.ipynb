{
 "cells": [
  {
   "cell_type": "markdown",
   "metadata": {},
   "source": [
    "________\n",
    "<a id=\"top\"></a>\n",
    "# DS 7331 Data Mining: Mini Lab 2 iPython Notebook\n",
    "Created On: February 11, 2019\n",
    "### Authors:  \n",
    "- Arora, Tanvi                \n",
    "- Chandna, Rajat\n",
    "- Henderson Kuns, Nicol\n",
    "- Ramasundaram, Kumar\n",
    "- Vasquez, James\n",
    "LRInterpertFeat\n",
    "\n",
    "# Logisitic Regression and Support Vector Machines\n",
    "\n",
    "## Contents\n",
    "* <a href=\"#DataPrep\">Data Prepping</a>\n",
    "    * <a href=\"#onehotencode\">One Hot Encoding</a>\n",
    "    * <a href=\"#Perform8020split\">Perform 80/20 split</a>  \n",
    "    * <a href=\"#PrepTestData\">Prep Test Data</a>    \n",
    "* <a href=\"#CreateLRModel\">Create Models</a>\n",
    "    * <a href=\"#CreateLRModel\">Simple Logistic Regression Model</a>  \n",
    "    * <a href=\"#LRGridSearch\">Grid Search</a>   \n",
    "    * <a href=\"#LRInterpertFeat\">Feature Interpertation</a>   \n",
    "* <a href=\"#SVMModel\">Simple SVM Model</a>\n",
    "    * <a href=\"#SVMRBF\">RBF Grid Search</a>   \n",
    "    * <a href=\"#SVMPOLY\">Poly Grid Search</a>   \n",
    "    * <a href=\"#SVMFINAL\">Final SVM Model on Validation Dataset</a>\n",
    "    * <a href=\"#SVMFINAL_Test\">Final SVM Model on Additional Test Dataset</a> \n",
    "* <a href=\"#MODELADV\">Model Advantages</a>\n",
    "* <a href=\"#INTVECT\">Interpret Support Vector</a>\n",
    "* <a href=\"#ECPWORK\">Exceptionnal Work</a>"
   ]
  },
  {
   "cell_type": "markdown",
   "metadata": {},
   "source": [
    "<a id=\"DataPrep\"></a>\n",
    "### Getting Dataset Ready for Model Building"
   ]
  },
  {
   "cell_type": "code",
   "execution_count": 1,
   "metadata": {
    "collapsed": true
   },
   "outputs": [],
   "source": [
    "# Importing the needed modules\n",
    "import numpy as np\n",
    "import pandas as pd\n",
    "import matplotlib.pyplot as plt\n",
    "import seaborn as sns\n",
    "import warnings\n",
    "warnings.simplefilter('ignore', DeprecationWarning)\n",
    "warnings.simplefilter('ignore', FutureWarning)\n",
    "\n",
    "# To display plots inside the iPython Notebook itself\n",
    "%matplotlib inline"
   ]
  },
  {
   "cell_type": "code",
   "execution_count": 5,
   "metadata": {},
   "outputs": [
    {
     "ename": "FileNotFoundError",
     "evalue": "[Errno 2] No such file or directory: 'data/bank-full.csv'",
     "output_type": "error",
     "traceback": [
      "\u001b[1;31m---------------------------------------------------------------------------\u001b[0m",
      "\u001b[1;31mFileNotFoundError\u001b[0m                         Traceback (most recent call last)",
      "\u001b[1;32m<ipython-input-5-ab3197a04a13>\u001b[0m in \u001b[0;36m<module>\u001b[1;34m()\u001b[0m\n\u001b[0;32m      6\u001b[0m \u001b[0mnoOfLinesToView\u001b[0m \u001b[1;33m=\u001b[0m \u001b[1;36m5\u001b[0m\u001b[1;33m\u001b[0m\u001b[0m\n\u001b[0;32m      7\u001b[0m \u001b[1;33m\u001b[0m\u001b[0m\n\u001b[1;32m----> 8\u001b[1;33m \u001b[1;32mwith\u001b[0m \u001b[0mopen\u001b[0m\u001b[1;33m(\u001b[0m\u001b[0mpathOfDataFile\u001b[0m\u001b[1;33m)\u001b[0m \u001b[1;32mas\u001b[0m \u001b[0mdataFile\u001b[0m\u001b[1;33m:\u001b[0m\u001b[1;33m\u001b[0m\u001b[0m\n\u001b[0m\u001b[0;32m      9\u001b[0m     \u001b[0mfirstFewLines\u001b[0m \u001b[1;33m=\u001b[0m \u001b[1;33m[\u001b[0m\u001b[0mnext\u001b[0m\u001b[1;33m(\u001b[0m\u001b[0mdataFile\u001b[0m\u001b[1;33m)\u001b[0m \u001b[1;32mfor\u001b[0m \u001b[0mi\u001b[0m \u001b[1;32min\u001b[0m \u001b[0mrange\u001b[0m\u001b[1;33m(\u001b[0m\u001b[0mnoOfLinesToView\u001b[0m\u001b[1;33m)\u001b[0m\u001b[1;33m]\u001b[0m\u001b[1;33m\u001b[0m\u001b[0m\n\u001b[0;32m     10\u001b[0m     \u001b[1;32mfor\u001b[0m \u001b[0mline\u001b[0m \u001b[1;32min\u001b[0m \u001b[0mfirstFewLines\u001b[0m\u001b[1;33m:\u001b[0m\u001b[1;33m\u001b[0m\u001b[0m\n",
      "\u001b[1;31mFileNotFoundError\u001b[0m: [Errno 2] No such file or directory: 'data/bank-full.csv'"
     ]
    }
   ],
   "source": [
    "# To verify how data is orgainzed in file(to find the delimiter) and then\n",
    "# use corresponding function to open the file. eg\n",
    "# data could be in .csv. .tsv, excel format etc.\n",
    "pathOfDataFile = \"data/bank-full.csv\"\n",
    "firstFewLines = list()\n",
    "noOfLinesToView = 5\n",
    "\n",
    "with open(pathOfDataFile) as dataFile:\n",
    "    firstFewLines = [next(dataFile) for i in range(noOfLinesToView)]\n",
    "    for line in firstFewLines:\n",
    "        print(line)"
   ]
  },
  {
   "cell_type": "code",
   "execution_count": 3,
   "metadata": {},
   "outputs": [
    {
     "data": {
      "text/html": [
       "<div>\n",
       "<style scoped>\n",
       "    .dataframe tbody tr th:only-of-type {\n",
       "        vertical-align: middle;\n",
       "    }\n",
       "\n",
       "    .dataframe tbody tr th {\n",
       "        vertical-align: top;\n",
       "    }\n",
       "\n",
       "    .dataframe thead th {\n",
       "        text-align: right;\n",
       "    }\n",
       "</style>\n",
       "<table border=\"1\" class=\"dataframe\">\n",
       "  <thead>\n",
       "    <tr style=\"text-align: right;\">\n",
       "      <th></th>\n",
       "      <th>age</th>\n",
       "      <th>job</th>\n",
       "      <th>marital</th>\n",
       "      <th>education</th>\n",
       "      <th>default</th>\n",
       "      <th>balance</th>\n",
       "      <th>housing</th>\n",
       "      <th>loan</th>\n",
       "      <th>contact</th>\n",
       "      <th>day</th>\n",
       "      <th>month</th>\n",
       "      <th>duration</th>\n",
       "      <th>campaign</th>\n",
       "      <th>pdays</th>\n",
       "      <th>previous</th>\n",
       "      <th>poutcome</th>\n",
       "      <th>Subscribed</th>\n",
       "    </tr>\n",
       "  </thead>\n",
       "  <tbody>\n",
       "    <tr>\n",
       "      <th>0</th>\n",
       "      <td>58</td>\n",
       "      <td>management</td>\n",
       "      <td>married</td>\n",
       "      <td>tertiary</td>\n",
       "      <td>no</td>\n",
       "      <td>2143</td>\n",
       "      <td>yes</td>\n",
       "      <td>no</td>\n",
       "      <td>unknown</td>\n",
       "      <td>5</td>\n",
       "      <td>may</td>\n",
       "      <td>261</td>\n",
       "      <td>1</td>\n",
       "      <td>-1</td>\n",
       "      <td>0</td>\n",
       "      <td>unknown</td>\n",
       "      <td>no</td>\n",
       "    </tr>\n",
       "    <tr>\n",
       "      <th>1</th>\n",
       "      <td>44</td>\n",
       "      <td>technician</td>\n",
       "      <td>single</td>\n",
       "      <td>secondary</td>\n",
       "      <td>no</td>\n",
       "      <td>29</td>\n",
       "      <td>yes</td>\n",
       "      <td>no</td>\n",
       "      <td>unknown</td>\n",
       "      <td>5</td>\n",
       "      <td>may</td>\n",
       "      <td>151</td>\n",
       "      <td>1</td>\n",
       "      <td>-1</td>\n",
       "      <td>0</td>\n",
       "      <td>unknown</td>\n",
       "      <td>no</td>\n",
       "    </tr>\n",
       "    <tr>\n",
       "      <th>2</th>\n",
       "      <td>33</td>\n",
       "      <td>entrepreneur</td>\n",
       "      <td>married</td>\n",
       "      <td>secondary</td>\n",
       "      <td>no</td>\n",
       "      <td>2</td>\n",
       "      <td>yes</td>\n",
       "      <td>yes</td>\n",
       "      <td>unknown</td>\n",
       "      <td>5</td>\n",
       "      <td>may</td>\n",
       "      <td>76</td>\n",
       "      <td>1</td>\n",
       "      <td>-1</td>\n",
       "      <td>0</td>\n",
       "      <td>unknown</td>\n",
       "      <td>no</td>\n",
       "    </tr>\n",
       "    <tr>\n",
       "      <th>3</th>\n",
       "      <td>47</td>\n",
       "      <td>blue-collar</td>\n",
       "      <td>married</td>\n",
       "      <td>unknown</td>\n",
       "      <td>no</td>\n",
       "      <td>1506</td>\n",
       "      <td>yes</td>\n",
       "      <td>no</td>\n",
       "      <td>unknown</td>\n",
       "      <td>5</td>\n",
       "      <td>may</td>\n",
       "      <td>92</td>\n",
       "      <td>1</td>\n",
       "      <td>-1</td>\n",
       "      <td>0</td>\n",
       "      <td>unknown</td>\n",
       "      <td>no</td>\n",
       "    </tr>\n",
       "    <tr>\n",
       "      <th>4</th>\n",
       "      <td>33</td>\n",
       "      <td>unknown</td>\n",
       "      <td>single</td>\n",
       "      <td>unknown</td>\n",
       "      <td>no</td>\n",
       "      <td>1</td>\n",
       "      <td>no</td>\n",
       "      <td>no</td>\n",
       "      <td>unknown</td>\n",
       "      <td>5</td>\n",
       "      <td>may</td>\n",
       "      <td>198</td>\n",
       "      <td>1</td>\n",
       "      <td>-1</td>\n",
       "      <td>0</td>\n",
       "      <td>unknown</td>\n",
       "      <td>no</td>\n",
       "    </tr>\n",
       "    <tr>\n",
       "      <th>5</th>\n",
       "      <td>35</td>\n",
       "      <td>management</td>\n",
       "      <td>married</td>\n",
       "      <td>tertiary</td>\n",
       "      <td>no</td>\n",
       "      <td>231</td>\n",
       "      <td>yes</td>\n",
       "      <td>no</td>\n",
       "      <td>unknown</td>\n",
       "      <td>5</td>\n",
       "      <td>may</td>\n",
       "      <td>139</td>\n",
       "      <td>1</td>\n",
       "      <td>-1</td>\n",
       "      <td>0</td>\n",
       "      <td>unknown</td>\n",
       "      <td>no</td>\n",
       "    </tr>\n",
       "    <tr>\n",
       "      <th>6</th>\n",
       "      <td>28</td>\n",
       "      <td>management</td>\n",
       "      <td>single</td>\n",
       "      <td>tertiary</td>\n",
       "      <td>no</td>\n",
       "      <td>447</td>\n",
       "      <td>yes</td>\n",
       "      <td>yes</td>\n",
       "      <td>unknown</td>\n",
       "      <td>5</td>\n",
       "      <td>may</td>\n",
       "      <td>217</td>\n",
       "      <td>1</td>\n",
       "      <td>-1</td>\n",
       "      <td>0</td>\n",
       "      <td>unknown</td>\n",
       "      <td>no</td>\n",
       "    </tr>\n",
       "  </tbody>\n",
       "</table>\n",
       "</div>"
      ],
      "text/plain": [
       "   age           job  marital  education default  balance housing loan  \\\n",
       "0   58    management  married   tertiary      no     2143     yes   no   \n",
       "1   44    technician   single  secondary      no       29     yes   no   \n",
       "2   33  entrepreneur  married  secondary      no        2     yes  yes   \n",
       "3   47   blue-collar  married    unknown      no     1506     yes   no   \n",
       "4   33       unknown   single    unknown      no        1      no   no   \n",
       "5   35    management  married   tertiary      no      231     yes   no   \n",
       "6   28    management   single   tertiary      no      447     yes  yes   \n",
       "\n",
       "   contact  day month  duration  campaign  pdays  previous poutcome Subscribed  \n",
       "0  unknown    5   may       261         1     -1         0  unknown         no  \n",
       "1  unknown    5   may       151         1     -1         0  unknown         no  \n",
       "2  unknown    5   may        76         1     -1         0  unknown         no  \n",
       "3  unknown    5   may        92         1     -1         0  unknown         no  \n",
       "4  unknown    5   may       198         1     -1         0  unknown         no  \n",
       "5  unknown    5   may       139         1     -1         0  unknown         no  \n",
       "6  unknown    5   may       217         1     -1         0  unknown         no  "
      ]
     },
     "execution_count": 3,
     "metadata": {},
     "output_type": "execute_result"
    }
   ],
   "source": [
    "# Import the semi-colon delimited data file into pandas dataFrame\n",
    "bankPromo_df = pd.read_csv(pathOfDataFile, sep = \";\")\n",
    "\n",
    "# Rename the Target/Final Outcome column from \"y\" to \"Subscribed\" as based on data description.\n",
    "bankPromo_df = bankPromo_df.rename(columns={\"y\":\"Subscribed\"})\n",
    "\n",
    "bankPromo_df.head(7)"
   ]
  },
  {
   "cell_type": "code",
   "execution_count": 4,
   "metadata": {},
   "outputs": [
    {
     "name": "stdout",
     "output_type": "stream",
     "text": [
      "<class 'pandas.core.frame.DataFrame'>\n",
      "RangeIndex: 45211 entries, 0 to 45210\n",
      "Data columns (total 17 columns):\n",
      "age           45211 non-null int64\n",
      "job           45211 non-null object\n",
      "marital       45211 non-null object\n",
      "education     45211 non-null object\n",
      "default       45211 non-null object\n",
      "balance       45211 non-null int64\n",
      "housing       45211 non-null object\n",
      "loan          45211 non-null object\n",
      "contact       45211 non-null object\n",
      "day           45211 non-null int64\n",
      "month         45211 non-null object\n",
      "duration      45211 non-null int64\n",
      "campaign      45211 non-null int64\n",
      "pdays         45211 non-null int64\n",
      "previous      45211 non-null int64\n",
      "poutcome      45211 non-null object\n",
      "Subscribed    45211 non-null object\n",
      "dtypes: int64(7), object(10)\n",
      "memory usage: 5.9+ MB\n"
     ]
    }
   ],
   "source": [
    "bankPromo_df.info()"
   ]
  },
  {
   "cell_type": "code",
   "execution_count": 5,
   "metadata": {},
   "outputs": [
    {
     "name": "stdout",
     "output_type": "stream",
     "text": [
      "['age', 'balance', 'day', 'duration', 'campaign', 'pdays', 'previous']\n",
      "['job', 'marital', 'education', 'default', 'housing', 'loan', 'contact', 'month', 'poutcome']\n"
     ]
    }
   ],
   "source": [
    "# Get the unique values(Levels) for categorical variables.\n",
    "# List to hold names of categorical variables\n",
    "categoricalVars = list()\n",
    "# List to hold names of numerical variables\n",
    "numericalVars = list()\n",
    "\n",
    "for colName in bankPromo_df.columns:\n",
    "    if bankPromo_df[colName].dtype == np.int64:\n",
    "        numericalVars.append(colName)\n",
    "    elif bankPromo_df[colName].dtype == np.object:\n",
    "        categoricalVars.append(colName)\n",
    "    else:\n",
    "        pass\n",
    "    \n",
    "# Remove Target column from final categorical Var list\n",
    "categoricalVars.remove('Subscribed')\n",
    "\n",
    "print(numericalVars)\n",
    "print(categoricalVars)"
   ]
  },
  {
   "cell_type": "markdown",
   "metadata": {},
   "source": [
    "________________________________________________________________________________________________________\n",
    "<a id=\"onehotencode\"></a>\n",
    "<a href=\"#top\">Back to Top</a>\n",
    "### Perform One Hot Encoding for categorical variables in dataset"
   ]
  },
  {
   "cell_type": "code",
   "execution_count": 6,
   "metadata": {
    "collapsed": true
   },
   "outputs": [],
   "source": [
    "# Make a copy of original data frame\n",
    "bankPromoModel_Df = bankPromo_df.copy()\n",
    "bankPromoModel_Df['Target'] = bankPromoModel_Df['Subscribed'].apply(lambda resp : 1 if resp == \"yes\" else 0)\n",
    "bankPromoModel_Df['Target'] = bankPromoModel_Df['Target'].astype(np.int)\n",
    "# Delete the original 'Subscribed' column\n",
    "del bankPromoModel_Df['Subscribed']\n",
    "\n",
    "\n",
    "\n"
   ]
  },
  {
   "cell_type": "code",
   "execution_count": 7,
   "metadata": {},
   "outputs": [
    {
     "name": "stdout",
     "output_type": "stream",
     "text": [
      "<class 'pandas.core.frame.DataFrame'>\n",
      "RangeIndex: 45211 entries, 0 to 45210\n",
      "Data columns (total 43 columns):\n",
      "age                    45211 non-null int64\n",
      "balance                45211 non-null int64\n",
      "day                    45211 non-null int64\n",
      "duration               45211 non-null int64\n",
      "campaign               45211 non-null int64\n",
      "pdays                  45211 non-null int64\n",
      "previous               45211 non-null int64\n",
      "Target                 45211 non-null int64\n",
      "job_blue-collar        45211 non-null uint8\n",
      "job_entrepreneur       45211 non-null uint8\n",
      "job_housemaid          45211 non-null uint8\n",
      "job_management         45211 non-null uint8\n",
      "job_retired            45211 non-null uint8\n",
      "job_self-employed      45211 non-null uint8\n",
      "job_services           45211 non-null uint8\n",
      "job_student            45211 non-null uint8\n",
      "job_technician         45211 non-null uint8\n",
      "job_unemployed         45211 non-null uint8\n",
      "job_unknown            45211 non-null uint8\n",
      "marital_married        45211 non-null uint8\n",
      "marital_single         45211 non-null uint8\n",
      "education_secondary    45211 non-null uint8\n",
      "education_tertiary     45211 non-null uint8\n",
      "education_unknown      45211 non-null uint8\n",
      "default_yes            45211 non-null uint8\n",
      "housing_yes            45211 non-null uint8\n",
      "loan_yes               45211 non-null uint8\n",
      "contact_telephone      45211 non-null uint8\n",
      "contact_unknown        45211 non-null uint8\n",
      "month_aug              45211 non-null uint8\n",
      "month_dec              45211 non-null uint8\n",
      "month_feb              45211 non-null uint8\n",
      "month_jan              45211 non-null uint8\n",
      "month_jul              45211 non-null uint8\n",
      "month_jun              45211 non-null uint8\n",
      "month_mar              45211 non-null uint8\n",
      "month_may              45211 non-null uint8\n",
      "month_nov              45211 non-null uint8\n",
      "month_oct              45211 non-null uint8\n",
      "month_sep              45211 non-null uint8\n",
      "poutcome_other         45211 non-null uint8\n",
      "poutcome_success       45211 non-null uint8\n",
      "poutcome_unknown       45211 non-null uint8\n",
      "dtypes: int64(8), uint8(35)\n",
      "memory usage: 4.3 MB\n"
     ]
    }
   ],
   "source": [
    "# Covert all categorical variables to corresponding indicator variables\n",
    "for categoricalVar in categoricalVars:\n",
    "    tmpDf = pd.DataFrame()\n",
    "    # Remove 1st class level to avoid multicollinearity\n",
    "    tmpDf = pd.get_dummies(bankPromoModel_Df[categoricalVar], prefix=categoricalVar, drop_first=True)\n",
    "    bankPromoModel_Df = pd.concat((bankPromoModel_Df, tmpDf), axis=1)\n",
    "\n",
    "# Now remove the original categorical vars since indicator variables are created from them.\n",
    "bankPromoModel_Df.drop(categoricalVars, inplace=True, axis=1)\n",
    "bankPromoModel_Df.info()\n"
   ]
  },
  {
   "cell_type": "markdown",
   "metadata": {},
   "source": [
    "________________________________________________________________________________________________________\n",
    "________________________________________________________________________________________________________\n",
    "<a id=\"Perform8020split\"></a>\n",
    "<a href=\"#top\">Back to Top</a>\n",
    "### Perform 5 fold Cross Validation with 80/20 Split for Model Selection "
   ]
  },
  {
   "cell_type": "code",
   "execution_count": 8,
   "metadata": {},
   "outputs": [
    {
     "name": "stdout",
     "output_type": "stream",
     "text": [
      "ShuffleSplit(n_splits=5, random_state=999, test_size=0.2, train_size=None)\n"
     ]
    }
   ],
   "source": [
    "# Training and Test Split\n",
    "from sklearn.model_selection import ShuffleSplit\n",
    "\n",
    "if 'Target' in bankPromoModel_Df:\n",
    "    y = bankPromoModel_Df['Target'].values # get the labels we want\n",
    "    del bankPromoModel_Df['Target']        # get rid of the class label\n",
    "    X = bankPromoModel_Df.values           # use everything else to predict!\n",
    "\n",
    "    ## X and y are now numpy matrices, by calling 'values' on the pandas data frames we\n",
    "    #    have converted them into simple matrices to use with scikit learn\n",
    "    \n",
    "    \n",
    "# To use the cross validation object in scikit learn, we need to grab an instance\n",
    "# of the object and set it up. This object will be able to split our data into \n",
    "# training and testing splits\n",
    "num_cv_iterations = 5\n",
    "num_instances = len(y)\n",
    "cv_object = ShuffleSplit(n_splits=num_cv_iterations,\n",
    "                         test_size  = 0.2, random_state=999)\n",
    "                         \n",
    "print(cv_object)\n"
   ]
  },
  {
   "cell_type": "markdown",
   "metadata": {},
   "source": [
    "________________________________________________________________________________________________________\n",
    "<a id=\"PrepTestData\"></a>\n",
    "<a href=\"#top\">Back to Top</a>\n",
    "### Getting ready Additional Test Dataset(with 10% instances) for final model fitting and weights interpretation "
   ]
  },
  {
   "cell_type": "code",
   "execution_count": 9,
   "metadata": {},
   "outputs": [
    {
     "name": "stdout",
     "output_type": "stream",
     "text": [
      "<class 'pandas.core.frame.DataFrame'>\n",
      "RangeIndex: 4521 entries, 0 to 4520\n",
      "Data columns (total 17 columns):\n",
      "age           4521 non-null int64\n",
      "job           4521 non-null object\n",
      "marital       4521 non-null object\n",
      "education     4521 non-null object\n",
      "default       4521 non-null object\n",
      "balance       4521 non-null int64\n",
      "housing       4521 non-null object\n",
      "loan          4521 non-null object\n",
      "contact       4521 non-null object\n",
      "day           4521 non-null int64\n",
      "month         4521 non-null object\n",
      "duration      4521 non-null int64\n",
      "campaign      4521 non-null int64\n",
      "pdays         4521 non-null int64\n",
      "previous      4521 non-null int64\n",
      "poutcome      4521 non-null object\n",
      "Subscribed    4521 non-null object\n",
      "dtypes: int64(7), object(10)\n",
      "memory usage: 600.5+ KB\n"
     ]
    }
   ],
   "source": [
    "pathOfAdditionalDataFile = \"data/bank.csv\"\n",
    "\n",
    "# Import the semi-colon delimited data file into pandas dataFrame\n",
    "bankPromoAdditional_df = pd.read_csv(pathOfAdditionalDataFile, sep = \";\")\n",
    "\n",
    "# Rename the Target/Final Outcome column from \"y\" to \"Subscribed\" as based on data description.\n",
    "bankPromoAdditional_df = bankPromoAdditional_df.rename(columns={\"y\":\"Subscribed\"})\n",
    "\n",
    "bankPromoAdditional_df.info()"
   ]
  },
  {
   "cell_type": "code",
   "execution_count": 10,
   "metadata": {
    "collapsed": true
   },
   "outputs": [],
   "source": [
    "bankPromoAdditional_df['Target'] = bankPromoAdditional_df['Subscribed'].apply(lambda resp : 1 if resp == \"yes\" else 0)\n",
    "bankPromoAdditional_df['Target'] = bankPromoAdditional_df['Target'].astype(np.int)\n",
    "# Delete the original 'Subscribed' column\n",
    "del bankPromoAdditional_df['Subscribed']"
   ]
  },
  {
   "cell_type": "code",
   "execution_count": 11,
   "metadata": {},
   "outputs": [
    {
     "name": "stdout",
     "output_type": "stream",
     "text": [
      "<class 'pandas.core.frame.DataFrame'>\n",
      "RangeIndex: 4521 entries, 0 to 4520\n",
      "Data columns (total 42 columns):\n",
      "age                    4521 non-null int64\n",
      "balance                4521 non-null int64\n",
      "day                    4521 non-null int64\n",
      "duration               4521 non-null int64\n",
      "campaign               4521 non-null int64\n",
      "pdays                  4521 non-null int64\n",
      "previous               4521 non-null int64\n",
      "job_blue-collar        4521 non-null uint8\n",
      "job_entrepreneur       4521 non-null uint8\n",
      "job_housemaid          4521 non-null uint8\n",
      "job_management         4521 non-null uint8\n",
      "job_retired            4521 non-null uint8\n",
      "job_self-employed      4521 non-null uint8\n",
      "job_services           4521 non-null uint8\n",
      "job_student            4521 non-null uint8\n",
      "job_technician         4521 non-null uint8\n",
      "job_unemployed         4521 non-null uint8\n",
      "job_unknown            4521 non-null uint8\n",
      "marital_married        4521 non-null uint8\n",
      "marital_single         4521 non-null uint8\n",
      "education_secondary    4521 non-null uint8\n",
      "education_tertiary     4521 non-null uint8\n",
      "education_unknown      4521 non-null uint8\n",
      "default_yes            4521 non-null uint8\n",
      "housing_yes            4521 non-null uint8\n",
      "loan_yes               4521 non-null uint8\n",
      "contact_telephone      4521 non-null uint8\n",
      "contact_unknown        4521 non-null uint8\n",
      "month_aug              4521 non-null uint8\n",
      "month_dec              4521 non-null uint8\n",
      "month_feb              4521 non-null uint8\n",
      "month_jan              4521 non-null uint8\n",
      "month_jul              4521 non-null uint8\n",
      "month_jun              4521 non-null uint8\n",
      "month_mar              4521 non-null uint8\n",
      "month_may              4521 non-null uint8\n",
      "month_nov              4521 non-null uint8\n",
      "month_oct              4521 non-null uint8\n",
      "month_sep              4521 non-null uint8\n",
      "poutcome_other         4521 non-null uint8\n",
      "poutcome_success       4521 non-null uint8\n",
      "poutcome_unknown       4521 non-null uint8\n",
      "dtypes: int64(7), uint8(35)\n",
      "memory usage: 401.8 KB\n"
     ]
    }
   ],
   "source": [
    "# Covert all categorical variables to corresponding indicator variables\n",
    "for categoricalVar in categoricalVars:\n",
    "    tmpDf = pd.DataFrame()\n",
    "    # Remove 1st class level to avoid multicollinearity\n",
    "    tmpDf = pd.get_dummies(bankPromoAdditional_df[categoricalVar], prefix=categoricalVar, drop_first=True)\n",
    "    bankPromoAdditional_df = pd.concat((bankPromoAdditional_df, tmpDf), axis=1)\n",
    "\n",
    "# Now remove the original categorical vars since indicator variables are created from them.\n",
    "bankPromoAdditional_df.drop(categoricalVars, inplace=True, axis=1)\n",
    "\n",
    "if 'Target' in bankPromoAdditional_df:\n",
    "    y_Final = bankPromoAdditional_df['Target'].values # get the labels we want\n",
    "    del bankPromoAdditional_df['Target']        # get rid of the class label\n",
    "    X_Final = bankPromoAdditional_df.values\n",
    "\n",
    "bankPromoAdditional_df.info()"
   ]
  },
  {
   "cell_type": "markdown",
   "metadata": {},
   "source": [
    "________________________________________________________________________________________________________\n",
    "<a id=\"CreateLRModel\"></a>\n",
    "<a href=\"#top\">Back to Top</a>\n",
    "# Create Model\n",
    "### Simple Logistic Model Fit"
   ]
  },
  {
   "cell_type": "code",
   "execution_count": 12,
   "metadata": {},
   "outputs": [
    {
     "name": "stdout",
     "output_type": "stream",
     "text": [
      "====Iteration 0  ====\n",
      "confusion matrix\n",
      " [[7769  207]\n",
      " [ 706  361]]\n",
      "====Iteration 1  ====\n",
      "confusion matrix\n",
      " [[7833  184]\n",
      " [ 680  346]]\n",
      "====Iteration 2  ====\n",
      "confusion matrix\n",
      " [[7736  201]\n",
      " [ 703  403]]\n",
      "====Iteration 3  ====\n",
      "confusion matrix\n",
      " [[7772  207]\n",
      " [ 696  368]]\n",
      "====Iteration 4  ====\n",
      "confusion matrix\n",
      " [[7772  232]\n",
      " [ 645  394]]\n"
     ]
    },
    {
     "data": {
      "text/html": [
       "<div>\n",
       "<style scoped>\n",
       "    .dataframe tbody tr th:only-of-type {\n",
       "        vertical-align: middle;\n",
       "    }\n",
       "\n",
       "    .dataframe tbody tr th {\n",
       "        vertical-align: top;\n",
       "    }\n",
       "\n",
       "    .dataframe thead th {\n",
       "        text-align: right;\n",
       "    }\n",
       "</style>\n",
       "<table border=\"1\" class=\"dataframe\">\n",
       "  <thead>\n",
       "    <tr style=\"text-align: right;\">\n",
       "      <th></th>\n",
       "      <th>Accuracy</th>\n",
       "      <th>AuC</th>\n",
       "      <th>F1 Score</th>\n",
       "      <th>Precision</th>\n",
       "      <th>Recall</th>\n",
       "    </tr>\n",
       "  </thead>\n",
       "  <tbody>\n",
       "    <tr>\n",
       "      <th>0</th>\n",
       "      <td>0.899038</td>\n",
       "      <td>0.656189</td>\n",
       "      <td>0.441590</td>\n",
       "      <td>0.635563</td>\n",
       "      <td>0.338332</td>\n",
       "    </tr>\n",
       "    <tr>\n",
       "      <th>1</th>\n",
       "      <td>0.904456</td>\n",
       "      <td>0.657140</td>\n",
       "      <td>0.444730</td>\n",
       "      <td>0.652830</td>\n",
       "      <td>0.337232</td>\n",
       "    </tr>\n",
       "    <tr>\n",
       "      <th>2</th>\n",
       "      <td>0.900033</td>\n",
       "      <td>0.669526</td>\n",
       "      <td>0.471345</td>\n",
       "      <td>0.667219</td>\n",
       "      <td>0.364376</td>\n",
       "    </tr>\n",
       "    <tr>\n",
       "      <th>3</th>\n",
       "      <td>0.900144</td>\n",
       "      <td>0.659961</td>\n",
       "      <td>0.449054</td>\n",
       "      <td>0.640000</td>\n",
       "      <td>0.345865</td>\n",
       "    </tr>\n",
       "    <tr>\n",
       "      <th>4</th>\n",
       "      <td>0.903019</td>\n",
       "      <td>0.675113</td>\n",
       "      <td>0.473273</td>\n",
       "      <td>0.629393</td>\n",
       "      <td>0.379211</td>\n",
       "    </tr>\n",
       "  </tbody>\n",
       "</table>\n",
       "</div>"
      ],
      "text/plain": [
       "   Accuracy       AuC  F1 Score  Precision    Recall\n",
       "0  0.899038  0.656189  0.441590   0.635563  0.338332\n",
       "1  0.904456  0.657140  0.444730   0.652830  0.337232\n",
       "2  0.900033  0.669526  0.471345   0.667219  0.364376\n",
       "3  0.900144  0.659961  0.449054   0.640000  0.345865\n",
       "4  0.903019  0.675113  0.473273   0.629393  0.379211"
      ]
     },
     "metadata": {},
     "output_type": "display_data"
    },
    {
     "name": "stdout",
     "output_type": "stream",
     "text": [
      "Average Model Performnace Metrices \n"
     ]
    },
    {
     "data": {
      "text/plain": [
       "Accuracy     0.901338\n",
       "AuC          0.663586\n",
       "F1 Score     0.455999\n",
       "Precision    0.645001\n",
       "Recall       0.353003\n",
       "dtype: float64"
      ]
     },
     "metadata": {},
     "output_type": "display_data"
    }
   ],
   "source": [
    "from sklearn.preprocessing import StandardScaler\n",
    "from sklearn.model_selection import cross_val_score\n",
    "from sklearn.linear_model import LogisticRegression\n",
    "from sklearn import metrics as mt\n",
    "from sklearn.pipeline import make_pipeline\n",
    "from sklearn.exceptions import DataConversionWarning\n",
    "from sklearn.model_selection import GridSearchCV\n",
    "warnings.filterwarnings(action='ignore', category=DataConversionWarning)\n",
    "\n",
    "# Initialize an Empty Dataframe to store Model performance Stats\n",
    "modelPerformanceMetrices = pd.DataFrame(columns=['Accuracy', 'AuC', 'F1 Score', 'Precision', 'Recall'])\n",
    "\n",
    "# Standardize the features first, since standardizing the features could lead to\n",
    "# gradient desent algo to converge faster and then run logistic regression model\n",
    "\n",
    "logisticModel = make_pipeline(StandardScaler(), LogisticRegression(penalty='l2', C=1.0, class_weight=None, random_state=999))\n",
    "\n",
    "for iter_num, (train_indices, test_indices) in enumerate(cv_object.split(X,y)):\n",
    "    X_train = X[train_indices]\n",
    "    y_train = y[train_indices]\n",
    "    \n",
    "    X_test = X[test_indices]\n",
    "    y_test = y[test_indices]\n",
    "       \n",
    "    # train the reusable logisitc regression model on the training data\n",
    "    logisticModel.fit(X_train,y_train)  # train object\n",
    "    y_hat = logisticModel.predict(X_test) # get test set precitions\n",
    "\n",
    "    # now let's get the accuracy,precision,recall,auc,F1 and confusion matrix for this iterations of training/testing\n",
    "    tmpDict = dict()\n",
    "    tmpDict['Accuracy'] = mt.accuracy_score(y_test,y_hat)\n",
    "    tmpDict['AuC'] = mt.roc_auc_score(y_test,y_hat)\n",
    "    tmpDict['F1 Score'] = mt.f1_score(y_test,y_hat)\n",
    "    tmpDict['Precision'] = mt.precision_score(y_test,y_hat)\n",
    "    tmpDict['Recall'] = mt.recall_score(y_test,y_hat)\n",
    "    \n",
    "    modelPerformanceMetrices = modelPerformanceMetrices.append(tmpDict, ignore_index=True)\n",
    "\n",
    "    conf = mt.confusion_matrix(y_test,y_hat)\n",
    "  \n",
    "    print(\"====Iteration\",iter_num,\" ====\")\n",
    "    print(\"confusion matrix\\n\",conf)\n",
    "\n",
    "display(modelPerformanceMetrices)\n",
    "print(\"Average Model Performnace Metrices \")\n",
    "display(modelPerformanceMetrices.mean())\n"
   ]
  },
  {
   "cell_type": "markdown",
   "metadata": {},
   "source": [
    "**As we can see from above performace metrices that model is not performing very well as overall average AuC score(=0.66) and F1 score(0.46) are relatively poor. Also, model is able to predict subscibers who actually subscribed to service, less than 36% of time ( recall = 0.35). Model accuracy is high but our dataset has class imbalance of approx 89% ( Not Subscribed) to approx 11%(Subscribed). Next we would perform grid search to adjust parameters of the model to make it more accurate, in terms of improved classification metrices esp. AuC score**"
   ]
  },
  {
   "cell_type": "markdown",
   "metadata": {},
   "source": [
    "________________________________________________________________________________________________________\n",
    "<a id=\"LRGridSearch\"></a>\n",
    "<a href=\"#top\">Back to Top</a>\n",
    "### Tuning The Model Hyper Parameters Using Grid Search"
   ]
  },
  {
   "cell_type": "code",
   "execution_count": 13,
   "metadata": {},
   "outputs": [
    {
     "name": "stdout",
     "output_type": "stream",
     "text": [
      "====Iteration 0  ====\n",
      "confusion matrix\n",
      " [[6699 1277]\n",
      " [ 188  879]]\n",
      "Best Estimator Model Parameters\n",
      " {'logisticregression__C': 0.004291934260128779, 'logisticregression__class_weight': 'balanced', 'logisticregression__penalty': 'l2', 'logisticregression__solver': 'liblinear'}\n",
      "====Iteration 1  ====\n",
      "confusion matrix\n",
      " [[6829 1188]\n",
      " [ 206  820]]\n",
      "Best Estimator Model Parameters\n",
      " {'logisticregression__C': 0.009102981779915217, 'logisticregression__class_weight': 'balanced', 'logisticregression__penalty': 'l1', 'logisticregression__solver': 'liblinear'}\n",
      "====Iteration 2  ====\n",
      "confusion matrix\n",
      " [[6717 1220]\n",
      " [ 186  920]]\n",
      "Best Estimator Model Parameters\n",
      " {'logisticregression__C': 0.009102981779915217, 'logisticregression__class_weight': 'balanced', 'logisticregression__penalty': 'l1', 'logisticregression__solver': 'liblinear'}\n",
      "====Iteration 3  ====\n",
      "confusion matrix\n",
      " [[6730 1249]\n",
      " [ 187  877]]\n",
      "Best Estimator Model Parameters\n",
      " {'logisticregression__C': 0.004291934260128779, 'logisticregression__class_weight': 'balanced', 'logisticregression__penalty': 'l2', 'logisticregression__solver': 'liblinear'}\n",
      "====Iteration 4  ====\n",
      "confusion matrix\n",
      " [[6724 1280]\n",
      " [ 176  863]]\n",
      "Best Estimator Model Parameters\n",
      " {'logisticregression__C': 0.0029470517025518097, 'logisticregression__class_weight': 'balanced', 'logisticregression__penalty': 'l2', 'logisticregression__solver': 'liblinear'}\n"
     ]
    },
    {
     "data": {
      "text/html": [
       "<div>\n",
       "<style scoped>\n",
       "    .dataframe tbody tr th:only-of-type {\n",
       "        vertical-align: middle;\n",
       "    }\n",
       "\n",
       "    .dataframe tbody tr th {\n",
       "        vertical-align: top;\n",
       "    }\n",
       "\n",
       "    .dataframe thead th {\n",
       "        text-align: right;\n",
       "    }\n",
       "</style>\n",
       "<table border=\"1\" class=\"dataframe\">\n",
       "  <thead>\n",
       "    <tr style=\"text-align: right;\">\n",
       "      <th></th>\n",
       "      <th>Accuracy</th>\n",
       "      <th>AuC</th>\n",
       "      <th>F1 Score</th>\n",
       "      <th>Precision</th>\n",
       "      <th>Recall</th>\n",
       "    </tr>\n",
       "  </thead>\n",
       "  <tbody>\n",
       "    <tr>\n",
       "      <th>0</th>\n",
       "      <td>0.837996</td>\n",
       "      <td>0.831850</td>\n",
       "      <td>0.545455</td>\n",
       "      <td>0.407699</td>\n",
       "      <td>0.823805</td>\n",
       "    </tr>\n",
       "    <tr>\n",
       "      <th>1</th>\n",
       "      <td>0.845848</td>\n",
       "      <td>0.825518</td>\n",
       "      <td>0.540541</td>\n",
       "      <td>0.408367</td>\n",
       "      <td>0.799220</td>\n",
       "    </tr>\n",
       "    <tr>\n",
       "      <th>2</th>\n",
       "      <td>0.844521</td>\n",
       "      <td>0.839058</td>\n",
       "      <td>0.566852</td>\n",
       "      <td>0.429907</td>\n",
       "      <td>0.831826</td>\n",
       "    </tr>\n",
       "    <tr>\n",
       "      <th>3</th>\n",
       "      <td>0.841203</td>\n",
       "      <td>0.833856</td>\n",
       "      <td>0.549843</td>\n",
       "      <td>0.412512</td>\n",
       "      <td>0.824248</td>\n",
       "    </tr>\n",
       "    <tr>\n",
       "      <th>4</th>\n",
       "      <td>0.838991</td>\n",
       "      <td>0.835343</td>\n",
       "      <td>0.542426</td>\n",
       "      <td>0.402706</td>\n",
       "      <td>0.830606</td>\n",
       "    </tr>\n",
       "  </tbody>\n",
       "</table>\n",
       "</div>"
      ],
      "text/plain": [
       "   Accuracy       AuC  F1 Score  Precision    Recall\n",
       "0  0.837996  0.831850  0.545455   0.407699  0.823805\n",
       "1  0.845848  0.825518  0.540541   0.408367  0.799220\n",
       "2  0.844521  0.839058  0.566852   0.429907  0.831826\n",
       "3  0.841203  0.833856  0.549843   0.412512  0.824248\n",
       "4  0.838991  0.835343  0.542426   0.402706  0.830606"
      ]
     },
     "metadata": {},
     "output_type": "display_data"
    },
    {
     "name": "stdout",
     "output_type": "stream",
     "text": [
      "Average Model Performnace Metrices \n"
     ]
    },
    {
     "data": {
      "text/plain": [
       "Accuracy     0.841712\n",
       "AuC          0.833125\n",
       "F1 Score     0.549023\n",
       "Precision    0.412238\n",
       "Recall       0.821941\n",
       "dtype: float64"
      ]
     },
     "metadata": {},
     "output_type": "display_data"
    }
   ],
   "source": [
    "from sklearn.metrics import make_scorer\n",
    "from sklearn.metrics import accuracy_score\n",
    "\n",
    "# Initialize an Empty Dataframe to store Model performance Stats\n",
    "modelPerformanceMetrices = pd.DataFrame(columns=['Accuracy', 'AuC', 'F1 Score', 'Precision', 'Recall'])\n",
    "\n",
    "param_grid = {\n",
    "     'logisticregression__penalty' : ['l1', 'l2'],\n",
    "    'logisticregression__C' : np.logspace(-4, 4, 50),\n",
    "    'logisticregression__solver' : ['liblinear'],\n",
    "    'logisticregression__class_weight' : [None, 'balanced']}\n",
    "\n",
    "\n",
    "scoring = {'AUC': 'roc_auc', 'Accuracy': make_scorer(accuracy_score)}\n",
    "\n",
    "# Create grid search object\n",
    "\n",
    "clf = GridSearchCV(make_pipeline(StandardScaler(), LogisticRegression(random_state=999)), \\\n",
    "                   param_grid = param_grid, cv = 5, verbose=False, n_jobs=-1, scoring=scoring, refit='AUC', \\\n",
    "                   return_train_score=True)\n",
    "\n",
    "# Fit on data\n",
    "\n",
    "for iter_num, (train_indices, test_indices) in enumerate(cv_object.split(X,y)):\n",
    "    X_train = X[train_indices]\n",
    "    y_train = y[train_indices]\n",
    "    \n",
    "    X_test = X[test_indices]\n",
    "    y_test = y[test_indices]\n",
    "       \n",
    "    # train the reusable logisitc regression model on the training data\n",
    "    clf.fit(X_train,y_train)  # train object\n",
    "    y_hat = clf.predict(X_test) # get test set precitions\n",
    "\n",
    "    # now let's get the accuracy and confusion matrix for this iterations of training/testing\n",
    "    tmpDict = dict()\n",
    "    tmpDict['Accuracy'] = mt.accuracy_score(y_test,y_hat)\n",
    "    tmpDict['AuC'] = mt.roc_auc_score(y_test,y_hat)\n",
    "    tmpDict['F1 Score'] = mt.f1_score(y_test,y_hat)\n",
    "    tmpDict['Precision'] = mt.precision_score(y_test,y_hat)\n",
    "    tmpDict['Recall'] = mt.recall_score(y_test,y_hat)\n",
    "    \n",
    "    modelPerformanceMetrices = modelPerformanceMetrices.append(tmpDict, ignore_index=True)\n",
    "\n",
    "    conf = mt.confusion_matrix(y_test,y_hat)\n",
    "  \n",
    "    print(\"====Iteration\",iter_num,\" ====\")\n",
    "    print(\"confusion matrix\\n\",conf)\n",
    "    print(\"Best Estimator Model Parameters\\n\", clf.best_params_)\n",
    "\n",
    "display(modelPerformanceMetrices)\n",
    "print(\"Average Model Performnace Metrices \")\n",
    "display(modelPerformanceMetrices.mean())"
   ]
  },
  {
   "cell_type": "markdown",
   "metadata": {},
   "source": [
    "- **As we can see from above performace metrices this model has performed better as compared to previous model in that the overall average AuC has improved from 0.66 to 0.83. F1 score improved from 0.45 to 0.55. Also, recall has improved significantly from 0.35 to 0.82. That said, overall accuracy decreased a little from 0.90 to 0.84 and precision drop by about 0.20. But since, overall AuC and F1 improved, by changing Prior probabilities, a balance between pricision and recall could be achieved. Moreover, in reality probabilty of people subscribing to a term deposit is not 50-50. Also, increased false positive rate means that bank would be making some extra calls that would not yield positive result but since recall is high, model is less likely to miss people who actually want to subscribe to bank deposit.**\n",
    "\n",
    "\n",
    "- Next we will go ahead and select the **model weights using third iteration model** that yielded relatively max values for both AuC and accuracy; and interpret the importance of different features for this classification task using validation on  **additional 10% of values dataset**\n",
    "\n",
    "\n",
    "- **Later in Exceptional Work section, we would try to increase complexity of the model by adding polynomial terms and interactions and see if that would incease accuracy, AuC and F1 score further (since we see such small value of C) . And run grid search on that degree=2 polynomial logistic regression model.**\n",
    "\n",
    "\n",
    "- **Also, we would perform Recursive feature selection(RFE) to decrease number of features in our model and see whether that changes AuC,accuracy,F1,precision and recall values.**  \n",
    "\n",
    "**NOTE: In above model, we havn't performed any explicit feature section but relied upon l1 penalty and regularization to control for overfitting.** "
   ]
  },
  {
   "cell_type": "markdown",
   "metadata": {},
   "source": [
    "Fitting The Model:\n",
    " {'logisticregression__C': 0.009102981779915217, 'logisticregression__class_weight': 'balanced', 'logisticregression__penalty': 'l1', 'logisticregression__solver': 'liblinear'} as discussed above to Additional Dataset.\n",
    " "
   ]
  },
  {
   "cell_type": "code",
   "execution_count": 13,
   "metadata": {},
   "outputs": [
    {
     "name": "stdout",
     "output_type": "stream",
     "text": [
      "confusion matrix\n",
      " [[3374  626]\n",
      " [ 106  415]]\n",
      "\n",
      " Model Performnace Metrices\n"
     ]
    },
    {
     "data": {
      "text/html": [
       "<div>\n",
       "<style scoped>\n",
       "    .dataframe tbody tr th:only-of-type {\n",
       "        vertical-align: middle;\n",
       "    }\n",
       "\n",
       "    .dataframe tbody tr th {\n",
       "        vertical-align: top;\n",
       "    }\n",
       "\n",
       "    .dataframe thead th {\n",
       "        text-align: right;\n",
       "    }\n",
       "</style>\n",
       "<table border=\"1\" class=\"dataframe\">\n",
       "  <thead>\n",
       "    <tr style=\"text-align: right;\">\n",
       "      <th></th>\n",
       "      <th>Accuracy</th>\n",
       "      <th>AuC</th>\n",
       "      <th>F1 Score</th>\n",
       "      <th>Precision</th>\n",
       "      <th>Recall</th>\n",
       "    </tr>\n",
       "  </thead>\n",
       "  <tbody>\n",
       "    <tr>\n",
       "      <th>0</th>\n",
       "      <td>0.838089</td>\n",
       "      <td>0.820023</td>\n",
       "      <td>0.53137</td>\n",
       "      <td>0.398655</td>\n",
       "      <td>0.796545</td>\n",
       "    </tr>\n",
       "  </tbody>\n",
       "</table>\n",
       "</div>"
      ],
      "text/plain": [
       "   Accuracy       AuC  F1 Score  Precision    Recall\n",
       "0  0.838089  0.820023   0.53137   0.398655  0.796545"
      ]
     },
     "metadata": {},
     "output_type": "display_data"
    }
   ],
   "source": [
    "# Initialize an Empty Dataframe to store Model performance Stats\n",
    "modelPerformanceMetrices = pd.DataFrame(columns=['Accuracy', 'AuC', 'F1 Score', 'Precision', 'Recall'])\n",
    "\n",
    "# Standardize the features first, since standardizing the features could lead to\n",
    "# gradient desent algo to converge faster and then run logistic regression model\n",
    "\n",
    "logisticModel = make_pipeline(StandardScaler(), LogisticRegression(penalty='l1', C=0.009102981779915217,\\\n",
    "                                                                   class_weight='balanced', random_state=999, \\\n",
    "                                                                   solver='liblinear'))\n",
    "\n",
    "# Fit the whole training dataset now, since validation would be done on additional dataset\n",
    "logisticModel.fit(X,y) \n",
    "y_hat = logisticModel.predict(X_Final) # get test set precitions\n",
    "\n",
    "# now let's get the accuracy,precision,recall,auc,F1 and confusion matrix for this iterations of training/testing\n",
    "tmpDict = dict()\n",
    "tmpDict['Accuracy'] = mt.accuracy_score(y_Final,y_hat)\n",
    "tmpDict['AuC'] = mt.roc_auc_score(y_Final,y_hat)\n",
    "tmpDict['F1 Score'] = mt.f1_score(y_Final,y_hat)\n",
    "tmpDict['Precision'] = mt.precision_score(y_Final,y_hat)\n",
    "tmpDict['Recall'] = mt.recall_score(y_Final,y_hat)\n",
    "    \n",
    "modelPerformanceMetrices = modelPerformanceMetrices.append(tmpDict, ignore_index=True)\n",
    "\n",
    "conf = mt.confusion_matrix(y_Final,y_hat)\n",
    "  \n",
    "print(\"confusion matrix\\n\",conf)\n",
    "    \n",
    "print(\"\\n Model Performnace Metrices\")\n",
    "display(modelPerformanceMetrices)\n",
    "\n"
   ]
  },
  {
   "cell_type": "markdown",
   "metadata": {},
   "source": [
    "**In conclusion, the results obtained for classification performance metrices(AuC, accuracy, F1 score etc) on the additional test dataset are very close to those obtained on cross-validation dataset. And final model is performing significantly better(in terms of overall AuC values) than the initial logistic model the one without hyperparameters tuning.** "
   ]
  },
  {
   "cell_type": "code",
   "execution_count": 14,
   "metadata": {},
   "outputs": [
    {
     "data": {
      "image/png": "[encoded data removed]",
      "text/plain": [
       "<Figure size 432x288 with 1 Axes>"
      ]
     },
     "metadata": {},
     "output_type": "display_data"
    }
   ],
   "source": [
    "# Plot the RoC Curve\n",
    "from sklearn.metrics import roc_curve, auc\n",
    "# calculate the fpr and tpr for all thresholds of the classification\n",
    "probs = logisticModel.predict_proba(X_Final)\n",
    "preds = probs[:,1]\n",
    "fpr, tpr, threshold = roc_curve(y_Final, preds)\n",
    "roc_auc = auc(fpr, tpr)\n",
    "\n",
    "plt.title('Receiver Operating Characteristic')\n",
    "plt.plot(fpr, tpr, 'b', label = 'AUC = %0.2f' % roc_auc)\n",
    "plt.legend(loc = 'lower right')\n",
    "plt.plot([0, 1], [0, 1],'r--')\n",
    "plt.xlim([0, 1])\n",
    "plt.ylim([0, 1])\n",
    "plt.ylabel('True Positive Rate')\n",
    "plt.xlabel('False Positive Rate')\n",
    "plt.show()"
   ]
  },
  {
   "cell_type": "markdown",
   "metadata": {},
   "source": [
    "________________________________________________________________________________________________________\n",
    "<a id=\"LRInterpertFeat\"></a>\n",
    "<a href=\"#top\">Back to Top</a>\n",
    "### Interpret Feature Importance"
   ]
  },
  {
   "cell_type": "code",
   "execution_count": 16,
   "metadata": {},
   "outputs": [
    {
     "name": "stdout",
     "output_type": "stream",
     "text": [
      "contact_unknown has weight of -0.6597393606569804\n",
      "housing_yes has weight of -0.36483034349530163\n",
      "month_jul has weight of -0.3182031838425452\n",
      "month_may has weight of -0.2584796849950919\n",
      "campaign has weight of -0.25795236961394996\n",
      "month_aug has weight of -0.24537673422001902\n",
      "month_nov has weight of -0.21238259353740632\n",
      "loan_yes has weight of -0.1802869371328466\n",
      "month_jan has weight of -0.1743427941843215\n",
      "job_blue-collar has weight of -0.09689472462982444\n",
      "poutcome_unknown has weight of -0.0837662971448729\n",
      "marital_married has weight of -0.07059163186041814\n",
      "job_housemaid has weight of -0.041484793114395256\n",
      "job_services has weight of -0.02375225497825546\n",
      "job_entrepreneur has weight of -0.021159304305913475\n",
      "job_self-employed has weight of -0.019972927198734423\n",
      "job_unknown has weight of -0.003907411376158106\n",
      "age has weight of 0.0\n",
      "contact_telephone has weight of 0.0\n",
      "default_yes has weight of 0.0\n",
      "job_management has weight of 0.0\n",
      "job_technician has weight of 0.0\n",
      "job_unemployed has weight of 0.0\n",
      "month_feb has weight of 0.0\n",
      "pdays has weight of 0.0\n",
      "day has weight of 0.0012114509683114384\n",
      "education_unknown has weight of 0.01368522530623419\n",
      "education_secondary has weight of 0.014355242034092537\n",
      "poutcome_other has weight of 0.03261514250249246\n",
      "previous has weight of 0.04315123167418284\n",
      "month_dec has weight of 0.04891347746618425\n",
      "balance has weight of 0.052060180955538105\n",
      "month_jun has weight of 0.06390233269115872\n",
      "marital_single has weight of 0.06797229585810476\n",
      "job_retired has weight of 0.08118550966096427\n",
      "job_student has weight of 0.09078843807312659\n",
      "education_tertiary has weight of 0.10336732141582657\n",
      "month_sep has weight of 0.1122503745966371\n",
      "month_oct has weight of 0.16661399656117815\n",
      "month_mar has weight of 0.18669620472623205\n",
      "poutcome_success has weight of 0.42087373681394397\n",
      "duration has weight of 1.4295631868403893\n"
     ]
    },
    {
     "data": {
      "image/png": "[encoded data removed]",
      "text/plain": [
       "<Figure size 1440x648 with 1 Axes>"
      ]
     },
     "metadata": {},
     "output_type": "display_data"
    }
   ],
   "source": [
    "classifier_model = logisticModel.named_steps['logisticregression']\n",
    "# sort these attributes and spit them out\n",
    "zip_vars = zip(classifier_model.coef_.T, bankPromoModel_Df.columns) # combine attributes\n",
    "zip_vars = sorted(zip_vars)\n",
    "for coef, name in zip_vars:\n",
    "    print(name, 'has weight of', coef[0])\n",
    "\n",
    "plt.style.use('ggplot')\n",
    "plt.figure(figsize=(20,9))\n",
    "weights = pd.Series(classifier_model.coef_[0],index=bankPromoModel_Df.columns)\n",
    "weights.plot(kind='bar')\n",
    "plt.show()"
   ]
  },
  {
   "cell_type": "markdown",
   "metadata": {},
   "source": [
    "Based on the magnitude of the coefficients in above plot features- duration, contact_unknown , poutcome_success, housing_yes are among the most important features. \n",
    "- **Duration of call** is the  **most important feature in order to predict the people who want subscribe to promotion.** This is intuitive since generally, people who want subscribe to promotion want more information on the offering and providing all such details generally takes time for representative, resulting in higher call duration. The importance of this feature was quite apparent in the EDA phase.  \n",
    "- **Contact_unknown** has a **higher negative coefficient**, it has a higher likelihood of predicting the people who do not want to subscribe. From EDA phase, it was determined that about 28% of callers contacted have a method listed as unknown method of communication, so it is treated as a third category. But it is also known that this promotion involved only voice calls and most likely falls into either one of the categories of cellular or telephone or both the methods of contact. Whichever way it was, it is possible that the response on phone itself was a denial and not much effort was made to record the mode of contact for these customers. \n",
    "- Next seemingly important feature is **poutcome_success with a positive coefficient** . From EDA phase , it is known that majority of the contacted people are new. But it seems that the likelihood of previously contacted customers who subscribed then and who would subscribe again is high. While it may be a tendency to ignore existing customers to fetch new ones, it would be good to contact existing customers to retain them.\n",
    "- Next significant feature is **housing_yes ,i.e. customers who have a housing loan and this has a negative coefficient** presenting higher probability of not subscribing. This is intuitive since generally people who already have invested in a property have a loan and would less likely be able to invest further. Majority of the customers are belong to lower to average income households and so would have less opportunity to make multiple investments.\n",
    "- From months of the year, month of July has the highest negative coefficient and is next important feature to be considered. While we are at it, we discuss the trend throughout the year. Month of Jan, May, July, Aug and Nov show higher likelihood of people not subscribing , representing summer months of vacation and winter months of important celebrations, where people may have other higher expenditures to take care of . Mar and Oct show higher likelihood of customers subscribing to term deposit.Rest of the months are less significant but more likelihood of people subscribing. \n",
    "- Another important feature is the **campaign** , i.e  number of times customer is contacted during the current campaign. Interestingly this shows a **negative coefficient**, more time contacted shows higher likelihood of not subscribing to term deposit . If a customer is interested , will respond positively in the first few contacts made. If not there could be multiple valid reasons for the customer to not invest and any number of calls made is not going to change that. \n",
    "\n",
    "\n",
    "This are some of the more significant features. Talking about the less significant ones in groups . \n",
    "- **Job related features**, have close to equal likelihood of subscribing or not subscribing to term deposit. Students , retired people and ones with corporate jobs show slightly higher likelihood of subscribing than people who are either with blue-collared jobs , entrepreneurs or people with lower income jobs like housemaids and services. \n",
    "- Education on other hand does not seem to be very significant in itself as the probability of people with any form of education and subscribing to term deposit is 50-50. Other significant features like income, loans and job may overshadow this feature. One could be highly educated but have low income maybe they are not in a well to do job or are self-employed and are just starting.On the other hand less educated people can be entrepreneurs and have high income. \n",
    "- **Age** has turned out to be one of the **least significant features**, again as it can be collinear to income or job and so the model decided it to be less significant."
   ]
  },
  {
   "cell_type": "markdown",
   "metadata": {},
   "source": [
    "________________________________________________________________________________________________________\n",
    "<a id=\"SVMModel\"></a>\n",
    "<a href=\"#top\">Back to Top</a>\n",
    "### Simple SVM Model Fit"
   ]
  },
  {
   "cell_type": "markdown",
   "metadata": {},
   "source": [
    "SVM also used the imputed data sets. We used two different kernels - rbf and poly. The data set is not linearly separable. So Radial Basis Function (RBF) and polynomial (poly) were tried. There were challenges in buidling a good model. The dataset is not balanced and has 89% of non-subscribed versus just 11% of subscribed. Since it is not balanced, in addition to accuracy score, recall and precision were considered in the model performance. The very first model had a decent accuracy of nearly 90%, but both recall and precision were very low (<50%). "
   ]
  },
  {
   "cell_type": "code",
   "execution_count": 13,
   "metadata": {},
   "outputs": [
    {
     "name": "stdout",
     "output_type": "stream",
     "text": [
      "====Iteration 0  ====\n",
      "confusion matrix\n",
      " [[7790  186]\n",
      " [ 739  328]]\n",
      "====Iteration 1  ====\n",
      "confusion matrix\n",
      " [[7847  170]\n",
      " [ 679  347]]\n",
      "====Iteration 2  ====\n",
      "confusion matrix\n",
      " [[7768  169]\n",
      " [ 731  375]]\n",
      "====Iteration 3  ====\n",
      "confusion matrix\n",
      " [[7785  194]\n",
      " [ 701  363]]\n",
      "====Iteration 4  ====\n",
      "confusion matrix\n",
      " [[7796  208]\n",
      " [ 689  350]]\n"
     ]
    },
    {
     "data": {
      "text/html": [
       "<div>\n",
       "<style scoped>\n",
       "    .dataframe tbody tr th:only-of-type {\n",
       "        vertical-align: middle;\n",
       "    }\n",
       "\n",
       "    .dataframe tbody tr th {\n",
       "        vertical-align: top;\n",
       "    }\n",
       "\n",
       "    .dataframe thead th {\n",
       "        text-align: right;\n",
       "    }\n",
       "</style>\n",
       "<table border=\"1\" class=\"dataframe\">\n",
       "  <thead>\n",
       "    <tr style=\"text-align: right;\">\n",
       "      <th></th>\n",
       "      <th>Accuracy</th>\n",
       "      <th>AuC</th>\n",
       "      <th>F1 Score</th>\n",
       "      <th>Precision</th>\n",
       "      <th>Recall</th>\n",
       "    </tr>\n",
       "  </thead>\n",
       "  <tbody>\n",
       "    <tr>\n",
       "      <th>0</th>\n",
       "      <td>0.897711</td>\n",
       "      <td>0.642042</td>\n",
       "      <td>0.414927</td>\n",
       "      <td>0.638132</td>\n",
       "      <td>0.307404</td>\n",
       "    </tr>\n",
       "    <tr>\n",
       "      <th>1</th>\n",
       "      <td>0.906115</td>\n",
       "      <td>0.658501</td>\n",
       "      <td>0.449773</td>\n",
       "      <td>0.671180</td>\n",
       "      <td>0.338207</td>\n",
       "    </tr>\n",
       "    <tr>\n",
       "      <th>2</th>\n",
       "      <td>0.900476</td>\n",
       "      <td>0.658883</td>\n",
       "      <td>0.454545</td>\n",
       "      <td>0.689338</td>\n",
       "      <td>0.339060</td>\n",
       "    </tr>\n",
       "    <tr>\n",
       "      <th>3</th>\n",
       "      <td>0.901028</td>\n",
       "      <td>0.658426</td>\n",
       "      <td>0.447872</td>\n",
       "      <td>0.651706</td>\n",
       "      <td>0.341165</td>\n",
       "    </tr>\n",
       "    <tr>\n",
       "      <th>4</th>\n",
       "      <td>0.900807</td>\n",
       "      <td>0.655438</td>\n",
       "      <td>0.438322</td>\n",
       "      <td>0.627240</td>\n",
       "      <td>0.336862</td>\n",
       "    </tr>\n",
       "  </tbody>\n",
       "</table>\n",
       "</div>"
      ],
      "text/plain": [
       "   Accuracy       AuC  F1 Score  Precision    Recall\n",
       "0  0.897711  0.642042  0.414927   0.638132  0.307404\n",
       "1  0.906115  0.658501  0.449773   0.671180  0.338207\n",
       "2  0.900476  0.658883  0.454545   0.689338  0.339060\n",
       "3  0.901028  0.658426  0.447872   0.651706  0.341165\n",
       "4  0.900807  0.655438  0.438322   0.627240  0.336862"
      ]
     },
     "metadata": {},
     "output_type": "display_data"
    },
    {
     "name": "stdout",
     "output_type": "stream",
     "text": [
      "Average Model Performnace Metrices \n"
     ]
    },
    {
     "data": {
      "text/plain": [
       "Accuracy     0.901227\n",
       "AuC          0.654658\n",
       "F1 Score     0.441088\n",
       "Precision    0.655519\n",
       "Recall       0.332540\n",
       "dtype: float64"
      ]
     },
     "metadata": {},
     "output_type": "display_data"
    }
   ],
   "source": [
    "from sklearn.svm import SVC\n",
    "# Initialize an Empty Dataframe to store Model performance Stats\n",
    "modelPerformanceMetrices = pd.DataFrame(columns=['Accuracy', 'AuC', 'F1 Score', 'Precision', 'Recall'])\n",
    "\n",
    "# Standardize the features first, since standardizing the features could lead to\n",
    "# gradient desent algo to converge faster and then run SVM model\n",
    "\n",
    "svmModel = make_pipeline(StandardScaler(), SVC(C=1.0, kernel='rbf', degree=3 , gamma='auto', random_state=999))\n",
    "\n",
    "for iter_num, (train_indices, test_indices) in enumerate(cv_object.split(X,y)):\n",
    "    X_train = X[train_indices]\n",
    "    y_train = y[train_indices]\n",
    "    \n",
    "    X_test = X[test_indices]\n",
    "    y_test = y[test_indices]\n",
    "    \n",
    "    \n",
    "    \n",
    "    # train the reusable logisitc regression model on the training data\n",
    "    svmModel.fit(X_train, y_train)  # train object\n",
    "    y_hat = svmModel.predict(X_test) # get test set precitions\n",
    "\n",
    "    # now let's get the accuracy,precision,recall,auc,F1 and confusion matrix for this iterations of training/testing\n",
    "    tmpDict = dict()\n",
    "    tmpDict['Accuracy'] = mt.accuracy_score(y_test,y_hat)\n",
    "    tmpDict['AuC'] = mt.roc_auc_score(y_test,y_hat)\n",
    "    tmpDict['F1 Score'] = mt.f1_score(y_test,y_hat)\n",
    "    tmpDict['Precision'] = mt.precision_score(y_test,y_hat)\n",
    "    tmpDict['Recall'] = mt.recall_score(y_test,y_hat)\n",
    "    \n",
    "    modelPerformanceMetrices = modelPerformanceMetrices.append(tmpDict, ignore_index=True)\n",
    "\n",
    "    conf = mt.confusion_matrix(y_test,y_hat)\n",
    "  \n",
    "    print(\"====Iteration\",iter_num,\" ====\")\n",
    "    print(\"confusion matrix\\n\",conf)\n",
    "\n",
    "display(modelPerformanceMetrices)\n",
    "print(\"Average Model Performnace Metrices \")\n",
    "display(modelPerformanceMetrices.mean())"
   ]
  },
  {
   "cell_type": "markdown",
   "metadata": {},
   "source": [
    "________________________________________________________________________________________________________\n",
    "<a id=\"SVMRBF\"></a>\n",
    "<a href=\"#top\">Back to Top</a>\n",
    "### Tuning The Model Hyper Parameters for SVM Using Grid Search\n",
    "### For rbf kernel"
   ]
  },
  {
   "cell_type": "code",
   "execution_count": null,
   "metadata": {
    "collapsed": true
   },
   "outputs": [],
   "source": [
    "from sklearn.model_selection import GridSearchCV\n",
    "from sklearn import svm\n",
    "from sklearn.metrics import make_scorer\n",
    "from sklearn.metrics import accuracy_score\n",
    "\n",
    "# Initialize an Empty Dataframe to store Model performance Stats\n",
    "modelPerformanceMetrices = pd.DataFrame(columns=['Accuracy', 'AuC', 'F1 Score', 'Precision', 'Recall'])\n",
    "\n",
    "param_grid = {\n",
    "     'svc__kernel' : ['rbf'],\n",
    "    'svc__C' : [0.1, 1, 10, 100],\n",
    "    'svc__degree' : [3],\n",
    "    'svc__class_weight' : [None, 'balanced'],\n",
    "    'svc__gamma': [0.01, 0.1, 1,'auto']}\n",
    "\n",
    "\n",
    "scoring = {'AUC': 'roc_auc', 'Accuracy': make_scorer(accuracy_score)}\n",
    "\n",
    "# Create grid search object\n",
    "\n",
    "clf = GridSearchCV(make_pipeline(StandardScaler(), SVC(random_state=999)), \\\n",
    "                   param_grid = param_grid, cv = 5, verbose=False, n_jobs=-1, scoring=scoring, refit='AUC', \\\n",
    "                   return_train_score=True)\n",
    "\n",
    "# Fit on data\n",
    "\n",
    "for iter_num, (train_indices, test_indices) in enumerate(cv_object.split(X,y)):\n",
    "    X_train = X[train_indices]\n",
    "    y_train = y[train_indices]\n",
    "    X_test = X[test_indices]\n",
    "    y_test = y[test_indices]\n",
    "       \n",
    "    # train the reusable logisitc regression model on the training data\n",
    "    clf.fit(X_train,y_train)  # train object\n",
    "    y_hat = clf.predict(X_test) # get test set precitions\n",
    "\n",
    "    # now let's get the accuracy and confusion matrix for this iterations of training/testing\n",
    "    tmpDict = dict()\n",
    "    tmpDict['Accuracy'] = mt.accuracy_score(y_test,y_hat)\n",
    "    tmpDict['AuC'] = mt.roc_auc_score(y_test,y_hat)\n",
    "    tmpDict['F1 Score'] = mt.f1_score(y_test,y_hat)\n",
    "    tmpDict['Precision'] = mt.precision_score(y_test,y_hat)\n",
    "    tmpDict['Recall'] = mt.recall_score(y_test,y_hat)\n",
    "    \n",
    "    modelPerformanceMetrices = modelPerformanceMetrices.append(tmpDict, ignore_index=True)\n",
    "\n",
    "    conf = mt.confusion_matrix(y_test,y_hat)\n",
    "  \n",
    "    print(\"====Iteration\",iter_num,\" ====\")\n",
    "    print(\"confusion matrix\\n\",conf)\n",
    "    print(\"Best Estimator Model Parameters\\n\", clf.best_params_)\n",
    "\n",
    "display(modelPerformanceMetrices)\n",
    "print(\"Average Model Performnace Metrices \")\n",
    "display(modelPerformanceMetrices.mean())"
   ]
  },
  {
   "cell_type": "markdown",
   "metadata": {},
   "source": [
    "Note: Grid search for finding optimal parameters for this SVM model took long time and we lost the output of the cell during merge process in github. Hence, we are are adding a snapshot of iteration result that we used further to build our better model."
   ]
  },
  {
   "cell_type": "markdown",
   "metadata": {},
   "source": [
    "![alt text](https://github.com/nhendersonkuns/awesomedataminers/raw/master/ReferenceMaterial/RBFGridSearchResults.PNG \"RBF GRid Search Results\")"
   ]
  },
  {
   "cell_type": "markdown",
   "metadata": {},
   "source": [
    "________________________________________________________________________________________________________\n",
    "<a id=\"SVMPOLY\"></a>\n",
    "<a href=\"#top\">Back to Top</a>\n",
    "### Tuning The Model Hyper Parameters for SVM Using Grid Search\n",
    "### For poly kernel\n"
   ]
  },
  {
   "cell_type": "code",
   "execution_count": null,
   "metadata": {
    "collapsed": true
   },
   "outputs": [],
   "source": [
    "from sklearn.model_selection import GridSearchCV\n",
    "from sklearn import svm\n",
    "from sklearn.metrics import make_scorer\n",
    "from sklearn.metrics import accuracy_score\n",
    "\n",
    "# Initialize an Empty Dataframe to store Model performance Stats\n",
    "modelPerformanceMetrices = pd.DataFrame(columns=['Accuracy', 'AuC', 'F1 Score', 'Precision', 'Recall'])\n",
    "\n",
    "param_grid = {\n",
    "     'svc__kernel' : ['poly'],\n",
    "    'svc__C' : [1, 5, 10],\n",
    "    'svc__degree' : [3],\n",
    "    'svc__class_weight' : ['balanced'],\n",
    "    'svc__gamma': [0.01, 1,'auto']}\n",
    "\n",
    "\n",
    "scoring = {'AUC': 'roc_auc', 'Accuracy': make_scorer(accuracy_score)}\n",
    "\n",
    "# Create grid search object\n",
    "\n",
    "clf = GridSearchCV(make_pipeline(StandardScaler(), SVC(random_state=999)), \\\n",
    "                   param_grid = param_grid, cv = 3, verbose=False, n_jobs=-1, scoring=scoring, refit='AUC', \\\n",
    "                   return_train_score=True)\n",
    "\n",
    "# Fit on data\n",
    "\n",
    "for iter_num, (train_indices, test_indices) in enumerate(cv_object.split(X,y)):\n",
    "    X_train = X[train_indices]\n",
    "    y_train = y[train_indices]\n",
    "    X_test = X[test_indices]\n",
    "    y_test = y[test_indices]\n",
    "       \n",
    "    # train the reusable logisitc regression model on the training data\n",
    "    clf.fit(X_train,y_train)  # train object\n",
    "    y_hat = clf.predict(X_test) # get test set precitions\n",
    "\n",
    "    # now let's get the accuracy and confusion matrix for this iterations of training/testing\n",
    "    tmpDict = dict()\n",
    "    tmpDict['Accuracy'] = mt.accuracy_score(y_test,y_hat)\n",
    "    tmpDict['AuC'] = mt.roc_auc_score(y_test,y_hat)\n",
    "    tmpDict['F1 Score'] = mt.f1_score(y_test,y_hat)\n",
    "    tmpDict['Precision'] = mt.precision_score(y_test,y_hat)\n",
    "    tmpDict['Recall'] = mt.recall_score(y_test,y_hat)\n",
    "    \n",
    "    modelPerformanceMetrices = modelPerformanceMetrices.append(tmpDict, ignore_index=True)\n",
    "\n",
    "    conf = mt.confusion_matrix(y_test,y_hat)\n",
    "  \n",
    "    print(\"====Iteration\",iter_num,\" ====\")\n",
    "    print(\"confusion matrix\\n\",conf)\n",
    "    print(\"Best Estimator Model Parameters\\n\", clf.best_params_)\n",
    "\n",
    "display(modelPerformanceMetrices)\n",
    "print(\"Average Model Performnace Metrices \")\n",
    "display(modelPerformanceMetrices.mean())"
   ]
  },
  {
   "cell_type": "markdown",
   "metadata": {},
   "source": [
    "________________________________________________________________________________________________________\n",
    "<a id=\"SVMFINAL\"></a>\n",
    "<a href=\"#top\">Back to Top</a>\n",
    "### Final SVM Model after GridSearch on Validation Dataset"
   ]
  },
  {
   "cell_type": "code",
   "execution_count": 14,
   "metadata": {},
   "outputs": [
    {
     "name": "stdout",
     "output_type": "stream",
     "text": [
      "====Iteration 0  ====\n",
      "confusion matrix\n",
      " [[6659 1317]\n",
      " [ 137  930]]\n",
      "====Iteration 1  ====\n",
      "confusion matrix\n",
      " [[6737 1280]\n",
      " [ 146  880]]\n",
      "====Iteration 2  ====\n",
      "confusion matrix\n",
      " [[6625 1312]\n",
      " [ 125  981]]\n",
      "====Iteration 3  ====\n",
      "confusion matrix\n",
      " [[6664 1315]\n",
      " [ 141  923]]\n",
      "====Iteration 4  ====\n",
      "confusion matrix\n",
      " [[6655 1349]\n",
      " [ 121  918]]\n"
     ]
    },
    {
     "data": {
      "text/html": [
       "<div>\n",
       "<style scoped>\n",
       "    .dataframe tbody tr th:only-of-type {\n",
       "        vertical-align: middle;\n",
       "    }\n",
       "\n",
       "    .dataframe tbody tr th {\n",
       "        vertical-align: top;\n",
       "    }\n",
       "\n",
       "    .dataframe thead th {\n",
       "        text-align: right;\n",
       "    }\n",
       "</style>\n",
       "<table border=\"1\" class=\"dataframe\">\n",
       "  <thead>\n",
       "    <tr style=\"text-align: right;\">\n",
       "      <th></th>\n",
       "      <th>Accuracy</th>\n",
       "      <th>AuC</th>\n",
       "      <th>F1 Score</th>\n",
       "      <th>Precision</th>\n",
       "      <th>Recall</th>\n",
       "    </tr>\n",
       "  </thead>\n",
       "  <tbody>\n",
       "    <tr>\n",
       "      <th>0</th>\n",
       "      <td>0.839213</td>\n",
       "      <td>0.853241</td>\n",
       "      <td>0.561255</td>\n",
       "      <td>0.413885</td>\n",
       "      <td>0.871603</td>\n",
       "    </tr>\n",
       "    <tr>\n",
       "      <th>1</th>\n",
       "      <td>0.842309</td>\n",
       "      <td>0.849020</td>\n",
       "      <td>0.552417</td>\n",
       "      <td>0.407407</td>\n",
       "      <td>0.857700</td>\n",
       "    </tr>\n",
       "    <tr>\n",
       "      <th>2</th>\n",
       "      <td>0.841093</td>\n",
       "      <td>0.860839</td>\n",
       "      <td>0.577229</td>\n",
       "      <td>0.427824</td>\n",
       "      <td>0.886980</td>\n",
       "    </tr>\n",
       "    <tr>\n",
       "      <th>3</th>\n",
       "      <td>0.838991</td>\n",
       "      <td>0.851337</td>\n",
       "      <td>0.559055</td>\n",
       "      <td>0.412422</td>\n",
       "      <td>0.867481</td>\n",
       "    </tr>\n",
       "    <tr>\n",
       "      <th>4</th>\n",
       "      <td>0.837443</td>\n",
       "      <td>0.857501</td>\n",
       "      <td>0.555354</td>\n",
       "      <td>0.404940</td>\n",
       "      <td>0.883542</td>\n",
       "    </tr>\n",
       "  </tbody>\n",
       "</table>\n",
       "</div>"
      ],
      "text/plain": [
       "   Accuracy       AuC  F1 Score  Precision    Recall\n",
       "0  0.839213  0.853241  0.561255   0.413885  0.871603\n",
       "1  0.842309  0.849020  0.552417   0.407407  0.857700\n",
       "2  0.841093  0.860839  0.577229   0.427824  0.886980\n",
       "3  0.838991  0.851337  0.559055   0.412422  0.867481\n",
       "4  0.837443  0.857501  0.555354   0.404940  0.883542"
      ]
     },
     "metadata": {},
     "output_type": "display_data"
    },
    {
     "name": "stdout",
     "output_type": "stream",
     "text": [
      "Average Model Performnace Metrices \n"
     ]
    },
    {
     "data": {
      "text/plain": [
       "Accuracy     0.839810\n",
       "AuC          0.854387\n",
       "F1 Score     0.561062\n",
       "Precision    0.413296\n",
       "Recall       0.873461\n",
       "dtype: float64"
      ]
     },
     "metadata": {},
     "output_type": "display_data"
    }
   ],
   "source": [
    "from sklearn.svm import SVC\n",
    "# Initialize an Empty Dataframe to store Model performance Stats\n",
    "modelPerformanceMetrices = pd.DataFrame(columns=['Accuracy', 'AuC', 'F1 Score', 'Precision', 'Recall'])\n",
    "\n",
    "# Standardize the features first, since standardizing the features could lead to\n",
    "# gradient desent algo to converge faster and then run SVM model\n",
    "\n",
    "svmModel = make_pipeline(StandardScaler(), SVC(C=1.0, kernel='rbf', degree=3 , gamma=0.01, class_weight = 'balanced', random_state=999))\n",
    "\n",
    "for iter_num, (train_indices, test_indices) in enumerate(cv_object.split(X,y)):\n",
    "    X_train = X[train_indices]\n",
    "    y_train = y[train_indices]\n",
    "    \n",
    "    X_test = X[test_indices]\n",
    "    y_test = y[test_indices]\n",
    "    \n",
    "    \n",
    "    \n",
    "    # train the reusable logisitc regression model on the training data\n",
    "    svmModel.fit(X_train, y_train)  # train object\n",
    "    y_hat = svmModel.predict(X_test) # get test set precitions\n",
    "\n",
    "    # now let's get the accuracy,precision,recall,auc,F1 and confusion matrix for this iterations of training/testing\n",
    "    tmpDict = dict()\n",
    "    tmpDict['Accuracy'] = mt.accuracy_score(y_test,y_hat)\n",
    "    tmpDict['AuC'] = mt.roc_auc_score(y_test,y_hat)\n",
    "    tmpDict['F1 Score'] = mt.f1_score(y_test,y_hat)\n",
    "    tmpDict['Precision'] = mt.precision_score(y_test,y_hat)\n",
    "    tmpDict['Recall'] = mt.recall_score(y_test,y_hat)\n",
    "    \n",
    "    modelPerformanceMetrices = modelPerformanceMetrices.append(tmpDict, ignore_index=True)\n",
    "\n",
    "    conf = mt.confusion_matrix(y_test,y_hat)\n",
    "    svm_model = svmModel.named_steps['svc']\n",
    "    print(\"====Iteration\",iter_num,\" ====\")\n",
    "    print(\"confusion matrix\\n\",conf)\n",
    "    #print(\"Best Estimator Model Parameters\\n\", svm_model.best_params_)\n",
    "\n",
    "display(modelPerformanceMetrices)\n",
    "print(\"Average Model Performnace Metrices \")\n",
    "display(modelPerformanceMetrices.mean())"
   ]
  },
  {
   "cell_type": "markdown",
   "metadata": {},
   "source": [
    "- **As we can see from above performance metrics this model has performed better as compared to previous model in that the overall average AuC has improved from 0.65 to 0.84. F1 score improved from 0.44 to 0.56. Also, recall has improved significantly from 0.35 to 0.87. That said, overall accuracy decreased a little from 0.90 to 0.84 and precision drop by about 0.20. But since, overall AuC and F1 improved, by changing Prior probabilities, a balance between pricision and recall could be achieved. Moreover, in reality probabilty of people subscribing to a term deposit is not 50-50. Also, increased false positive rate means that bank would be making some extra calls that would not yield positive result but since recall is high, model is less likely to miss people who actually want to subscribe to bank deposit.**\n",
    "\n",
    "- Even though Grid Search provided the optimum value, it took very long time to search the grid and provide optimum value. It took approx 4 hours for one iteration."
   ]
  },
  {
   "cell_type": "markdown",
   "metadata": {},
   "source": [
    "________________________________________________________________________________________________________\n",
    "<a id=\"SVMFINAL_Test\"></a>\n",
    "<a href=\"#top\">Back to Top</a>\n",
    "### Final SVM Model after GridSearch on Additional Test Dataset"
   ]
  },
  {
   "cell_type": "code",
   "execution_count": 16,
   "metadata": {},
   "outputs": [
    {
     "name": "stdout",
     "output_type": "stream",
     "text": [
      "confusion matrix\n",
      " [[3300  700]\n",
      " [  48  473]]\n",
      "\n",
      " Model Performnace Metrices\n"
     ]
    },
    {
     "data": {
      "text/html": [
       "<div>\n",
       "<style scoped>\n",
       "    .dataframe tbody tr th:only-of-type {\n",
       "        vertical-align: middle;\n",
       "    }\n",
       "\n",
       "    .dataframe tbody tr th {\n",
       "        vertical-align: top;\n",
       "    }\n",
       "\n",
       "    .dataframe thead th {\n",
       "        text-align: right;\n",
       "    }\n",
       "</style>\n",
       "<table border=\"1\" class=\"dataframe\">\n",
       "  <thead>\n",
       "    <tr style=\"text-align: right;\">\n",
       "      <th></th>\n",
       "      <th>Accuracy</th>\n",
       "      <th>AuC</th>\n",
       "      <th>F1 Score</th>\n",
       "      <th>Precision</th>\n",
       "      <th>Recall</th>\n",
       "    </tr>\n",
       "  </thead>\n",
       "  <tbody>\n",
       "    <tr>\n",
       "      <th>0</th>\n",
       "      <td>0.83455</td>\n",
       "      <td>0.866435</td>\n",
       "      <td>0.558442</td>\n",
       "      <td>0.40324</td>\n",
       "      <td>0.907869</td>\n",
       "    </tr>\n",
       "  </tbody>\n",
       "</table>\n",
       "</div>"
      ],
      "text/plain": [
       "   Accuracy       AuC  F1 Score  Precision    Recall\n",
       "0   0.83455  0.866435  0.558442    0.40324  0.907869"
      ]
     },
     "metadata": {},
     "output_type": "display_data"
    }
   ],
   "source": [
    "# Initialize an Empty Dataframe to store Model performance Stats\n",
    "modelPerformanceMetrices = pd.DataFrame(columns=['Accuracy', 'AuC', 'F1 Score', 'Precision', 'Recall'])\n",
    "\n",
    "# Standardize the features first, since standardizing the features could lead to\n",
    "# gradient desent algo to converge faster and then run logistic regression model\n",
    "\n",
    "\n",
    "svmModelAdd = make_pipeline(StandardScaler(), SVC(C=1.0, kernel='rbf', degree=3 , gamma=0.01, class_weight = 'balanced', random_state=999))\n",
    "\n",
    "# Fit the whole training dataset now, since validation would be done on additional dataset\n",
    "svmModelAdd.fit(X,y) \n",
    "y_hat = svmModelAdd.predict(X_Final) # get test set precitions\n",
    "\n",
    "# now let's get the accuracy,precision,recall,auc,F1 and confusion matrix for this iterations of training/testing\n",
    "tmpDict = dict()\n",
    "tmpDict['Accuracy'] = mt.accuracy_score(y_Final,y_hat)\n",
    "tmpDict['AuC'] = mt.roc_auc_score(y_Final,y_hat)\n",
    "tmpDict['F1 Score'] = mt.f1_score(y_Final,y_hat)\n",
    "tmpDict['Precision'] = mt.precision_score(y_Final,y_hat)\n",
    "tmpDict['Recall'] = mt.recall_score(y_Final,y_hat)\n",
    "    \n",
    "modelPerformanceMetrices = modelPerformanceMetrices.append(tmpDict, ignore_index=True)\n",
    "\n",
    "conf = mt.confusion_matrix(y_Final,y_hat)\n",
    "  \n",
    "print(\"confusion matrix\\n\",conf)\n",
    "    \n",
    "print(\"\\n Model Performnace Metrices\")\n",
    "display(modelPerformanceMetrices)\n"
   ]
  },
  {
   "cell_type": "markdown",
   "metadata": {},
   "source": [
    "**In conclusion, the results obtained for classification performance metrices(AuC, accuracy, F1 score etc) on the additional test dataset are very close to those obtained on cross-validation dataset. And final model is performing significantly better(in terms of overall AuC values) than the initial svm model the one without hyperparameters tuning.** "
   ]
  },
  {
   "cell_type": "markdown",
   "metadata": {},
   "source": [
    "________________________________________________________________________________________________________\n",
    "<a id=\"MODELADV\"></a>\n",
    "<a href=\"#top\">Back to Top</a>\n",
    "# Model Advantages"
   ]
  },
  {
   "cell_type": "markdown",
   "metadata": {},
   "source": [
    "In SVM, finding the optimum hyper parameters took very long time. For poly and rbf kernels, it took hours to find the best parameter. \n",
    "\n",
    "Once the best parameters were found for each kernels, then individual models ran fast.\n",
    "\n",
    "Both Support Vector Machine (SVM) and Logistic Regression (LR) try to classify a binary response or maximizing the probability of classifying a response variable.  In these models the team is trying to classify a response variable of subscribing to a long-term deposit.\n",
    "\n",
    "The SVM model attempts to find the maximum margin in the dimensional space.  This space is defined by the number of features that classify data points.  Points that fall on either side of this plane are classified into one of the binary responses the model is predicting.  To accurately define these margins the model uses support vectors that define the boundaries or the max margin.  These support vectors are points that lie the closest to the calculated boundary of the points.  These support vectors also define the position of the optimized plane.\n",
    "\n",
    "![alt text](https://github.com/nhendersonkuns/awesomedataminers/raw/master/ReferenceMaterial/SVM_optimal_plane.PNG \"SVM Planes\")\n",
    "\n",
    "The LR model will take the output of you model and give you a response that is between 0 and 1 using the logistic function.  In the case that the output is higher or lower than your threshold the value will be give a 1 or 0 respectively.  Within LR the method is to maximize the likelihood that a random data point is classified correctly (maximum likelihood estimation, MLE).  The LR allows the model to optimize this function by use of algorithms such as Newton’s method, conjugate gradients, modifications of Newton’s method using box constraints.  Learning and applying the different methods allow for a more accurate model.\n",
    "\n",
    "The difference between SVM and LR in terms of the Loss function is that SVM will minimize hinge loss while LR minimizes logistic loss.  What this leads to is logistic loss (LR) diverges faster than hinge loss (SVM).  The LR model is more sensitive to outliers as it tries to find the plane for classifying the points, where as the SVM model is not as sensitive to these outliers.\n",
    "\n",
    "![alt text](https://github.com/nhendersonkuns/awesomedataminers/raw/master/ReferenceMaterial/Outliers_SVM_vs_LR.PNG \"SVM vs LR Outliers\")\n",
    "\n",
    "Within the LR model your values are predicted probabilities between 0 and 1, which at this point you must decide your cut-off to give you the binary response.  The SVM model does produce a final binary response of 0 or 1.\n",
    "\n",
    "LR will perform better on smaller data sets and SVM performs better with larger data sets.  In terms of small data sets SVM as support vectors may not be a true/good representation of the decision boundaries.  Deciding the performance between SVM and LR, is relative and depends on several factors such as data set size and domain knowledge of the data.  In most cases a simple model (LR) should be attempted first to determine if the output is of desired accuracy.  In tradition LR it is found that the models may fit the training data set to well and may result in a model that is unable to make reasonably good predictions for unknown data points which is referred to as overfitting.  SVM attempts to minimize the classification error on the training set and minimize the complexity of the model.  Over all between the two methods SVM can compute more complex decision boundaries.\n",
    "\n",
    "**In the case of the bank data set, the team believes that the SVM should provide better results due to the size of the data sets and several outlier points that were discovered during data discovery.   Ultimately, the SVM model performed just as well as the logistic model in our case.  However, the major difference between the two models was the time for the SVM to run and the SVM model's benefit did not outweigh the time that was spent for it to run.**\n"
   ]
  },
  {
   "cell_type": "markdown",
   "metadata": {},
   "source": [
    "________________________________________________________________________________________________________\n",
    "<a id=\"INTVECT\"></a>\n",
    "<a href=\"#top\">Back to Top</a>\n",
    "# Interpret Support Vector"
   ]
  },
  {
   "cell_type": "code",
   "execution_count": 23,
   "metadata": {
    "collapsed": true
   },
   "outputs": [],
   "source": [
    "svm_model = svmModel.named_steps['svc']"
   ]
  },
  {
   "cell_type": "code",
   "execution_count": 25,
   "metadata": {},
   "outputs": [
    {
     "name": "stdout",
     "output_type": "stream",
     "text": [
      "(13577, 42)\n",
      "(13577,)\n",
      "[11695  1882]\n"
     ]
    }
   ],
   "source": [
    "# look at the support vectors\n",
    "print(svm_model.support_vectors_.shape)\n",
    "print(svm_model.support_.shape)\n",
    "print(svm_model.n_support_ )"
   ]
  },
  {
   "cell_type": "markdown",
   "metadata": {},
   "source": [
    "There are in total 13577 support vectors.\n",
    "\n",
    "The total number of different support vectors are 13577.The total number postive support vecotrs for those that subscribed are \n",
    "11695.The total number of negative support vectors for those that did not subscribe are 1822."
   ]
  },
  {
   "cell_type": "code",
   "execution_count": 30,
   "metadata": {},
   "outputs": [
    {
     "name": "stdout",
     "output_type": "stream",
     "text": [
      "<class 'pandas.core.frame.DataFrame'>\n",
      "Int64Index: 13577 entries, 41197 to 42930\n",
      "Data columns (total 43 columns):\n",
      "age                    13577 non-null int64\n",
      "balance                13577 non-null int64\n",
      "day                    13577 non-null int64\n",
      "duration               13577 non-null int64\n",
      "campaign               13577 non-null int64\n",
      "pdays                  13577 non-null int64\n",
      "previous               13577 non-null int64\n",
      "job_blue-collar        13577 non-null uint8\n",
      "job_entrepreneur       13577 non-null uint8\n",
      "job_housemaid          13577 non-null uint8\n",
      "job_management         13577 non-null uint8\n",
      "job_retired            13577 non-null uint8\n",
      "job_self-employed      13577 non-null uint8\n",
      "job_services           13577 non-null uint8\n",
      "job_student            13577 non-null uint8\n",
      "job_technician         13577 non-null uint8\n",
      "job_unemployed         13577 non-null uint8\n",
      "job_unknown            13577 non-null uint8\n",
      "marital_married        13577 non-null uint8\n",
      "marital_single         13577 non-null uint8\n",
      "education_secondary    13577 non-null uint8\n",
      "education_tertiary     13577 non-null uint8\n",
      "education_unknown      13577 non-null uint8\n",
      "default_yes            13577 non-null uint8\n",
      "housing_yes            13577 non-null uint8\n",
      "loan_yes               13577 non-null uint8\n",
      "contact_telephone      13577 non-null uint8\n",
      "contact_unknown        13577 non-null uint8\n",
      "month_aug              13577 non-null uint8\n",
      "month_dec              13577 non-null uint8\n",
      "month_feb              13577 non-null uint8\n",
      "month_jan              13577 non-null uint8\n",
      "month_jul              13577 non-null uint8\n",
      "month_jun              13577 non-null uint8\n",
      "month_mar              13577 non-null uint8\n",
      "month_may              13577 non-null uint8\n",
      "month_nov              13577 non-null uint8\n",
      "month_oct              13577 non-null uint8\n",
      "month_sep              13577 non-null uint8\n",
      "poutcome_other         13577 non-null uint8\n",
      "poutcome_success       13577 non-null uint8\n",
      "poutcome_unknown       13577 non-null uint8\n",
      "Target                 13577 non-null int32\n",
      "dtypes: int32(1), int64(7), uint8(35)\n",
      "memory usage: 1.3 MB\n"
     ]
    },
    {
     "name": "stderr",
     "output_type": "stream",
     "text": [
      "C:\\Users\\KRamasundaram\\Anaconda3\\envs\\MLEnv\\lib\\site-packages\\ipykernel_launcher.py:11: SettingWithCopyWarning: \n",
      "A value is trying to be set on a copy of a slice from a DataFrame.\n",
      "Try using .loc[row_indexer,col_indexer] = value instead\n",
      "\n",
      "See the caveats in the documentation: http://pandas.pydata.org/pandas-docs/stable/indexing.html#indexing-view-versus-copy\n",
      "  # This is added back by InteractiveShellApp.init_path()\n"
     ]
    }
   ],
   "source": [
    "# Now let's do some different analysis with the SVM and look at the instances that were chosen as support vectors\n",
    "\n",
    "# now lets look at the support for the vectors and see if we they are indicative of anything\n",
    "# grabe the rows that were selected as support vectors (these are usually instances that are hard to classify)\n",
    "\n",
    "# make a dataframe of the training data\n",
    "df_tested_on = bankPromoModel_Df.iloc[train_indices] # saved from above, the indices chosen for training\n",
    "# now get the support vectors from the trained model\n",
    "df_support = df_tested_on.iloc[svm_model.support_,:]\n",
    "\n",
    "df_support['Target'] = y[svm_model.support_] # add back in the 'Survived' Column to the pandas dataframe\n",
    "bankPromoModel_Df['Target'] = y # also add it back in for the original data\n",
    "df_support.info()"
   ]
  },
  {
   "cell_type": "code",
   "execution_count": 32,
   "metadata": {
    "scrolled": false
   },
   "outputs": [
    {
     "data": {
      "image/png": "[encoded data removed]",
      "text/plain": [
       "<Figure size 720x288 with 2 Axes>"
      ]
     },
     "metadata": {},
     "output_type": "display_data"
    },
    {
     "data": {
      "image/png": "[encoded data removed]",
      "text/plain": [
       "<Figure size 720x288 with 2 Axes>"
      ]
     },
     "metadata": {},
     "output_type": "display_data"
    },
    {
     "data": {
      "image/png": "[encoded data removed]",
      "text/plain": [
       "<Figure size 720x288 with 2 Axes>"
      ]
     },
     "metadata": {},
     "output_type": "display_data"
    },
    {
     "data": {
      "image/png": "[encoded data removed]",
      "text/plain": [
       "<Figure size 720x288 with 2 Axes>"
      ]
     },
     "metadata": {},
     "output_type": "display_data"
    }
   ],
   "source": [
    "# now lets see the statistics of these attributes\n",
    "#from pandas.tools.plotting import boxplot\n",
    "\n",
    "# group the original data and the support vectors\n",
    "df_grouped_support = df_support.groupby(['Target'])\n",
    "df_grouped = bankPromoModel_Df.groupby(['Target'])\n",
    "\n",
    "# plot KDE of Different variables\n",
    "vars_to_plot = ['age', 'balance', 'duration','previous']\n",
    "\n",
    "for v in vars_to_plot:\n",
    "    plt.figure(figsize=(10,4))\n",
    "    # plot support vector stats\n",
    "    plt.subplot(1,2,1)\n",
    "    ax = df_grouped_support[v].plot.kde() \n",
    "    plt.legend(['Not Subscribed','Subscribed'])\n",
    "    plt.title(v+' (Instances chosen as Support Vectors)')\n",
    "    \n",
    "    # plot original distributions\n",
    "    plt.subplot(1,2,2)\n",
    "    ax = df_grouped[v].plot.kde() \n",
    "    plt.legend(['Not Subscribed','Subscribed'])\n",
    "    plt.title(v+' (Original)')"
   ]
  },
  {
   "cell_type": "markdown",
   "metadata": {},
   "source": [
    "Based on the visual examination of the plots, the original data and support vectors look very close. Actually the separation is lot greater in the original data than what is shown in the plots. The reason is that the support vector instances are the data points that are only on the edge of the class boundary and classified incorrectly."
   ]
  },
  {
   "cell_type": "markdown",
   "metadata": {},
   "source": [
    "________________________________________________________________________________________________________\n",
    "<a id=\"ECPWORK\"></a>\n",
    "<a href=\"#top\">Back to Top</a>\n",
    "# Exceptional Work\n",
    "## Running Polynomial Logistic Regression "
   ]
  },
  {
   "cell_type": "code",
   "execution_count": 12,
   "metadata": {},
   "outputs": [
    {
     "name": "stderr",
     "output_type": "stream",
     "text": [
      "/anaconda3/lib/python3.7/site-packages/sklearn/svm/base.py:922: ConvergenceWarning: Liblinear failed to converge, increase the number of iterations.\n",
      "  \"the number of iterations.\", ConvergenceWarning)\n"
     ]
    },
    {
     "name": "stdout",
     "output_type": "stream",
     "text": [
      "====Iteration 0  ====\n",
      "confusion matrix\n",
      " [[7681  295]\n",
      " [ 582  485]]\n",
      "====Iteration 1  ====\n",
      "confusion matrix\n",
      " [[7712  305]\n",
      " [ 560  466]]\n",
      "====Iteration 2  ====\n",
      "confusion matrix\n",
      " [[7654  283]\n",
      " [ 595  511]]\n",
      "====Iteration 3  ====\n",
      "confusion matrix\n",
      " [[7674  305]\n",
      " [ 588  476]]\n",
      "====Iteration 4  ====\n",
      "confusion matrix\n",
      " [[7671  333]\n",
      " [ 558  481]]\n"
     ]
    },
    {
     "data": {
      "text/html": [
       "<div>\n",
       "<style scoped>\n",
       "    .dataframe tbody tr th:only-of-type {\n",
       "        vertical-align: middle;\n",
       "    }\n",
       "\n",
       "    .dataframe tbody tr th {\n",
       "        vertical-align: top;\n",
       "    }\n",
       "\n",
       "    .dataframe thead th {\n",
       "        text-align: right;\n",
       "    }\n",
       "</style>\n",
       "<table border=\"1\" class=\"dataframe\">\n",
       "  <thead>\n",
       "    <tr style=\"text-align: right;\">\n",
       "      <th></th>\n",
       "      <th>Accuracy</th>\n",
       "      <th>AuC</th>\n",
       "      <th>F1 Score</th>\n",
       "      <th>Precision</th>\n",
       "      <th>Recall</th>\n",
       "    </tr>\n",
       "  </thead>\n",
       "  <tbody>\n",
       "    <tr>\n",
       "      <th>0</th>\n",
       "      <td>0.903019</td>\n",
       "      <td>0.708780</td>\n",
       "      <td>0.525176</td>\n",
       "      <td>0.621795</td>\n",
       "      <td>0.454545</td>\n",
       "    </tr>\n",
       "    <tr>\n",
       "      <th>1</th>\n",
       "      <td>0.904346</td>\n",
       "      <td>0.708073</td>\n",
       "      <td>0.518642</td>\n",
       "      <td>0.604410</td>\n",
       "      <td>0.454191</td>\n",
       "    </tr>\n",
       "    <tr>\n",
       "      <th>2</th>\n",
       "      <td>0.902908</td>\n",
       "      <td>0.713185</td>\n",
       "      <td>0.537895</td>\n",
       "      <td>0.643577</td>\n",
       "      <td>0.462025</td>\n",
       "    </tr>\n",
       "    <tr>\n",
       "      <th>3</th>\n",
       "      <td>0.901250</td>\n",
       "      <td>0.704572</td>\n",
       "      <td>0.515989</td>\n",
       "      <td>0.609475</td>\n",
       "      <td>0.447368</td>\n",
       "    </tr>\n",
       "    <tr>\n",
       "      <th>4</th>\n",
       "      <td>0.901471</td>\n",
       "      <td>0.710670</td>\n",
       "      <td>0.519158</td>\n",
       "      <td>0.590909</td>\n",
       "      <td>0.462945</td>\n",
       "    </tr>\n",
       "  </tbody>\n",
       "</table>\n",
       "</div>"
      ],
      "text/plain": [
       "   Accuracy       AuC  F1 Score  Precision    Recall\n",
       "0  0.903019  0.708780  0.525176   0.621795  0.454545\n",
       "1  0.904346  0.708073  0.518642   0.604410  0.454191\n",
       "2  0.902908  0.713185  0.537895   0.643577  0.462025\n",
       "3  0.901250  0.704572  0.515989   0.609475  0.447368\n",
       "4  0.901471  0.710670  0.519158   0.590909  0.462945"
      ]
     },
     "metadata": {},
     "output_type": "display_data"
    },
    {
     "name": "stdout",
     "output_type": "stream",
     "text": [
      "Average Model Performnace Metrices \n"
     ]
    },
    {
     "data": {
      "text/plain": [
       "Accuracy     0.902599\n",
       "AuC          0.709056\n",
       "F1 Score     0.523372\n",
       "Precision    0.614033\n",
       "Recall       0.456215\n",
       "dtype: float64"
      ]
     },
     "metadata": {},
     "output_type": "display_data"
    }
   ],
   "source": [
    "from sklearn.preprocessing import StandardScaler\n",
    "from sklearn.model_selection import cross_val_score\n",
    "from sklearn.linear_model import LogisticRegression\n",
    "from sklearn import metrics as mt\n",
    "from sklearn.pipeline import make_pipeline\n",
    "from sklearn.exceptions import DataConversionWarning\n",
    "from sklearn.model_selection import GridSearchCV\n",
    "from sklearn.preprocessing import PolynomialFeatures\n",
    "\n",
    "warnings.filterwarnings(action='ignore', category=DataConversionWarning)\n",
    "\n",
    "# Initialize an Empty Dataframe to store Model performance Stats\n",
    "modelPerformanceMetrices = pd.DataFrame(columns=['Accuracy', 'AuC', 'F1 Score', 'Precision', 'Recall'])\n",
    "\n",
    "# Standardize the features first, since standardizing the features could lead to\n",
    "# gradient desent algo to converge faster and then run logistic regression model\n",
    "\n",
    "logisticModel = make_pipeline(StandardScaler(), PolynomialFeatures(degree=2), LogisticRegression(penalty='l2', C=1.0, class_weight=None, random_state=999))\n",
    "\n",
    "for iter_num, (train_indices, test_indices) in enumerate(cv_object.split(X,y)):\n",
    "    X_train = X[train_indices]\n",
    "    y_train = y[train_indices]\n",
    "    \n",
    "    X_test = X[test_indices]\n",
    "    y_test = y[test_indices]\n",
    "       \n",
    "    # train the reusable logisitc regression model on the training data\n",
    "    logisticModel.fit(X_train,y_train)  # train object\n",
    "    y_hat = logisticModel.predict(X_test) # get test set precitions\n",
    "\n",
    "    # now let's get the accuracy,precision,recall,auc,F1 and confusion matrix for this iterations of training/testing\n",
    "    tmpDict = dict()\n",
    "    tmpDict['Accuracy'] = mt.accuracy_score(y_test,y_hat)\n",
    "    tmpDict['AuC'] = mt.roc_auc_score(y_test,y_hat)\n",
    "    tmpDict['F1 Score'] = mt.f1_score(y_test,y_hat)\n",
    "    tmpDict['Precision'] = mt.precision_score(y_test,y_hat)\n",
    "    tmpDict['Recall'] = mt.recall_score(y_test,y_hat)\n",
    "    \n",
    "    modelPerformanceMetrices = modelPerformanceMetrices.append(tmpDict, ignore_index=True)\n",
    "\n",
    "    conf = mt.confusion_matrix(y_test,y_hat)\n",
    "  \n",
    "    print(\"====Iteration\",iter_num,\" ====\")\n",
    "    print(\"confusion matrix\\n\",conf)\n",
    "\n",
    "display(modelPerformanceMetrices)\n",
    "print(\"Average Model Performnace Metrices \")\n",
    "display(modelPerformanceMetrices.mean())"
   ]
  },
  {
   "cell_type": "markdown",
   "metadata": {},
   "source": [
    "As seen from output above, we see that polynomial model(having higher complexity than earlier model) is having much better AuC, Precision and recall scores and at higher accuracy, even without hyper parameters tuning. This points to the fact that our earlier model was underfitting and we need to add complexity to it to achieve better results.\n",
    "Next we would perform grid search to tune hyper parameters of this polynomial logistic regression model."
   ]
  },
  {
   "cell_type": "code",
   "execution_count": null,
   "metadata": {
    "collapsed": true
   },
   "outputs": [],
   "source": [
    "from sklearn.preprocessing import PolynomialFeatures\n",
    "import warnings\n",
    "warnings.simplefilter('ignore', UserWarning)\n",
    "\n",
    "# Initialize an Empty Dataframe to store Model performance Stats\n",
    "modelPerformanceMetrices = pd.DataFrame(columns=['Accuracy', 'AuC', 'F1 Score', 'Precision', 'Recall'])\n",
    "\n",
    "\n",
    "param_grid = {\n",
    "     'logisticregression__penalty' : ['l1', 'l2'],\n",
    "    'logisticregression__C' : np.logspace(-4, 4, 50),\n",
    "    'logisticregression__solver' : ['liblinear'],\n",
    "    'logisticregression__class_weight' : [None, 'balanced']}\n",
    "\n",
    "\n",
    "# Create grid search object\n",
    "# Trying to find params that lead to maximum F1 Score\n",
    "clf = GridSearchCV(make_pipeline(StandardScaler(), PolynomialFeatures(degree=2), LogisticRegression(random_state=999)), \\\n",
    "                   param_grid = param_grid, cv = 5, verbose=False, n_jobs=-1, scoring='f1')\n",
    "\n",
    "# Fit on data\n",
    "\n",
    "for iter_num, (train_indices, test_indices) in enumerate(cv_object.split(X,y)):\n",
    "    X_train = X[train_indices]\n",
    "    y_train = y[train_indices]\n",
    "    \n",
    "    X_test = X[test_indices]\n",
    "    y_test = y[test_indices]\n",
    "       \n",
    "    # train the reusable logisitc regression model on the training data\n",
    "    clf.fit(X_train,y_train)  # train object\n",
    "    y_hat = clf.predict(X_test) # get test set precitions\n",
    "\n",
    "    # now let's get the accuracy and confusion matrix for this iterations of training/testing\n",
    "    tmpDict = dict()\n",
    "    tmpDict['Accuracy'] = mt.accuracy_score(y_test,y_hat)\n",
    "    tmpDict['AuC'] = mt.roc_auc_score(y_test,y_hat)\n",
    "    tmpDict['F1 Score'] = mt.f1_score(y_test,y_hat)\n",
    "    tmpDict['Precision'] = mt.precision_score(y_test,y_hat)\n",
    "    tmpDict['Recall'] = mt.recall_score(y_test,y_hat)\n",
    "    \n",
    "    modelPerformanceMetrices = modelPerformanceMetrices.append(tmpDict, ignore_index=True)\n",
    "\n",
    "    conf = mt.confusion_matrix(y_test,y_hat)\n",
    "  \n",
    "    print(\"====Iteration\",iter_num,\" ====\")\n",
    "    print(\"confusion matrix\\n\",conf)\n",
    "    print(\"Best Estimator Model Parameters\\n\", clf.best_params_)\n",
    "\n",
    "display(modelPerformanceMetrices)\n",
    "print(\"Average Model Performnace Metrices \")\n",
    "display(modelPerformanceMetrices.mean())"
   ]
  },
  {
   "cell_type": "markdown",
   "metadata": {},
   "source": [
    "### Running Recursive Feature Elimination to Reduce Curse of Dimensionality"
   ]
  },
  {
   "cell_type": "markdown",
   "metadata": {},
   "source": [
    "Run the RFE in CV mode, in 5 Fold CV there would be 5 passes and in each pass features that are not that important to classification task are listed as output.\n",
    "Remove a feature from the dataset, if the feature is marked for elimination by RFE in 2 passes out of 5.\n",
    "Recreate the dataset with only non-eliminated features and fit the model again on this dataset."
   ]
  },
  {
   "cell_type": "code",
   "execution_count": 13,
   "metadata": {
    "collapsed": true
   },
   "outputs": [],
   "source": [
    "from sklearn.preprocessing import StandardScaler\n",
    "from sklearn.model_selection import cross_val_score\n",
    "from sklearn.linear_model import LogisticRegression\n",
    "from sklearn import metrics as mt\n",
    "from sklearn.exceptions import DataConversionWarning\n",
    "from sklearn.feature_selection import RFE\n",
    "from sklearn.pipeline import make_pipeline\n",
    "from sklearn.preprocessing import PolynomialFeatures\n",
    "warnings.filterwarnings(action='ignore', category=DataConversionWarning)\n",
    "\n",
    "featureSelectionArr = np.full((len(bankPromoModel_Df.columns)), True)\n",
    "\n",
    "# Standardize the features first, since standardizing the features could lead to\n",
    "# gradient desent algo to converge faster and then run logistic regression model\n",
    "scl_obj = StandardScaler()\n",
    "lr_clf = LogisticRegression(penalty='l2', C=1.0, class_weight=None)\n",
    "\n",
    "for iter_num, (train_indices, test_indices) in enumerate(cv_object.split(X,y)):\n",
    "    X_train = X[train_indices]\n",
    "    y_train = y[train_indices]\n",
    "    \n",
    "    X_test = X[test_indices]\n",
    "    y_test = y[test_indices]\n",
    "    \n",
    "    # Standardize the train dataset and then apply the transform the test data. \n",
    "    scl_obj.fit(X_train)\n",
    "    X_train_scaled = scl_obj.transform(X_train)\n",
    "    X_test_scaled = scl_obj.transform(X_test)\n",
    "    \n",
    "    # train the reusable logisitc regression model on the training data\n",
    "#    lr_clf.fit(X_train_scaled,y_train)  # train object\n",
    "\n",
    "    rfe = RFE(lr_clf, 25)\n",
    "    fit = rfe.fit(X_train_scaled,y_train)  # train object\n",
    "\n",
    "    featureSelectionArr = np.vstack((featureSelectionArr, fit.support_ ))\n",
    "    \n"
   ]
  },
  {
   "cell_type": "code",
   "execution_count": 14,
   "metadata": {
    "collapsed": true
   },
   "outputs": [],
   "source": [
    "# remove the first row in feature array as it was dummy row.\n",
    "featureSelectionArr = featureSelectionArr[1: , :]"
   ]
  },
  {
   "cell_type": "code",
   "execution_count": 15,
   "metadata": {},
   "outputs": [
    {
     "data": {
      "text/plain": [
       "Index(['day', 'duration', 'campaign', 'job_blue-collar', 'job_retired',\n",
       "       'job_student', 'marital_married', 'education_secondary',\n",
       "       'education_tertiary', 'education_unknown', 'housing_yes', 'loan_yes',\n",
       "       'contact_unknown', 'month_aug', 'month_jan', 'month_jul', 'month_jun',\n",
       "       'month_mar', 'month_may', 'month_nov', 'month_oct', 'month_sep',\n",
       "       'poutcome_success'],\n",
       "      dtype='object')"
      ]
     },
     "execution_count": 15,
     "metadata": {},
     "output_type": "execute_result"
    }
   ],
   "source": [
    "# Keep only those feature that appear important in 3 out of 5 passes.\n",
    "bankPromoModel_Df.columns[np.sum(featureSelectionArr, axis = 0) >= 3]"
   ]
  },
  {
   "cell_type": "code",
   "execution_count": 16,
   "metadata": {
    "collapsed": true
   },
   "outputs": [],
   "source": [
    "# Make a copy of original data frame\n",
    "bankPromoModel_Df_1 = bankPromo_df.copy()\n",
    "bankPromoModel_Df_1['Target'] = bankPromoModel_Df_1['Subscribed'].apply(lambda resp : 1 if resp == \"yes\" else 0)\n",
    "bankPromoModel_Df_1['Target'] = bankPromoModel_Df_1['Target'].astype(np.int)\n",
    "# Delete the original 'Subscribed' column\n",
    "del bankPromoModel_Df_1['Subscribed']"
   ]
  },
  {
   "cell_type": "code",
   "execution_count": 17,
   "metadata": {},
   "outputs": [
    {
     "name": "stdout",
     "output_type": "stream",
     "text": [
      "<class 'pandas.core.frame.DataFrame'>\n",
      "RangeIndex: 45211 entries, 0 to 45210\n",
      "Data columns (total 38 columns):\n",
      "day                    45211 non-null int64\n",
      "duration               45211 non-null int64\n",
      "campaign               45211 non-null int64\n",
      "Target                 45211 non-null int64\n",
      "job_blue-collar        45211 non-null uint8\n",
      "job_entrepreneur       45211 non-null uint8\n",
      "job_housemaid          45211 non-null uint8\n",
      "job_management         45211 non-null uint8\n",
      "job_retired            45211 non-null uint8\n",
      "job_self-employed      45211 non-null uint8\n",
      "job_services           45211 non-null uint8\n",
      "job_student            45211 non-null uint8\n",
      "job_technician         45211 non-null uint8\n",
      "job_unemployed         45211 non-null uint8\n",
      "job_unknown            45211 non-null uint8\n",
      "marital_married        45211 non-null uint8\n",
      "marital_single         45211 non-null uint8\n",
      "education_secondary    45211 non-null uint8\n",
      "education_tertiary     45211 non-null uint8\n",
      "education_unknown      45211 non-null uint8\n",
      "housing_yes            45211 non-null uint8\n",
      "loan_yes               45211 non-null uint8\n",
      "contact_telephone      45211 non-null uint8\n",
      "contact_unknown        45211 non-null uint8\n",
      "month_aug              45211 non-null uint8\n",
      "month_dec              45211 non-null uint8\n",
      "month_feb              45211 non-null uint8\n",
      "month_jan              45211 non-null uint8\n",
      "month_jul              45211 non-null uint8\n",
      "month_jun              45211 non-null uint8\n",
      "month_mar              45211 non-null uint8\n",
      "month_may              45211 non-null uint8\n",
      "month_nov              45211 non-null uint8\n",
      "month_oct              45211 non-null uint8\n",
      "month_sep              45211 non-null uint8\n",
      "poutcome_other         45211 non-null uint8\n",
      "poutcome_success       45211 non-null uint8\n",
      "poutcome_unknown       45211 non-null uint8\n",
      "dtypes: int64(4), uint8(34)\n",
      "memory usage: 2.8 MB\n"
     ]
    }
   ],
   "source": [
    "# Covert all categorical variables to corresponding indicator variables\n",
    "categoricalVarsToBeUsed = ['job',\n",
    " 'marital',\n",
    " 'education',\n",
    " 'housing',\n",
    " 'loan',\n",
    " 'contact',\n",
    " 'month',\n",
    " 'poutcome']\n",
    "\n",
    "for categoricalVar in categoricalVarsToBeUsed:\n",
    "    tmpDf = pd.DataFrame()\n",
    "    # Remove 1st class level to avoid multicollinearity\n",
    "    tmpDf = pd.get_dummies(bankPromoModel_Df_1[categoricalVar], prefix=categoricalVar, drop_first=True)\n",
    "    bankPromoModel_Df_1 = pd.concat((bankPromoModel_Df_1, tmpDf), axis=1)\n",
    "\n",
    "# Now remove the original categorical vars since indicator variables are created from them.\n",
    "bankPromoModel_Df_1.drop(categoricalVars, inplace=True, axis=1)\n",
    "\n",
    "# Now remove non useful numerical variables\n",
    "bankPromoModel_Df_1.drop(['age', 'balance', 'pdays', 'previous'], inplace=True, axis=1)\n",
    "bankPromoModel_Df_1.info()"
   ]
  },
  {
   "cell_type": "code",
   "execution_count": 18,
   "metadata": {},
   "outputs": [
    {
     "name": "stdout",
     "output_type": "stream",
     "text": [
      "ShuffleSplit(n_splits=5, random_state=None, test_size=0.2, train_size=None)\n"
     ]
    }
   ],
   "source": [
    "# Training and Test Split\n",
    "from sklearn.model_selection import ShuffleSplit\n",
    "\n",
    "if 'Target' in bankPromoModel_Df_1:\n",
    "    y = bankPromoModel_Df_1['Target'].values # get the labels we want\n",
    "    del bankPromoModel_Df_1['Target']        # get rid of the class label\n",
    "    X = bankPromoModel_Df_1.values           # use everything else to predict!\n",
    "\n",
    "    ## X and y are now numpy matrices, by calling 'values' on the pandas data frames we\n",
    "    #    have converted them into simple matrices to use with scikit learn\n",
    "    \n",
    "    \n",
    "# To use the cross validation object in scikit learn, we need to grab an instance\n",
    "# of the object and set it up. This object will be able to split our data into \n",
    "# training and testing splits\n",
    "num_cv_iterations = 5\n",
    "num_instances = len(y)\n",
    "cv_object = ShuffleSplit(n_splits=num_cv_iterations,\n",
    "                         test_size  = 0.2)\n",
    "                         \n",
    "print(cv_object)"
   ]
  },
  {
   "cell_type": "code",
   "execution_count": 19,
   "metadata": {},
   "outputs": [
    {
     "name": "stdout",
     "output_type": "stream",
     "text": [
      "====Iteration 0  ====\n",
      "AuC 0.6739314015106648\n",
      "accuracy 0.9036824062811014\n",
      "precision 0.6426229508196721\n",
      "recall 0.3751196172248804\n",
      "confusion matrix\n",
      " [[7780  218]\n",
      " [ 653  392]]\n",
      "====Iteration 1  ====\n",
      "AuC 0.6616923650142005\n",
      "accuracy 0.9004755059161783\n",
      "precision 0.679144385026738\n",
      "recall 0.3460490463215259\n",
      "confusion matrix\n",
      " [[7762  180]\n",
      " [ 720  381]]\n",
      "====Iteration 2  ====\n",
      "AuC 0.6585424797495267\n",
      "accuracy 0.8987061815769103\n",
      "precision 0.6654867256637168\n",
      "recall 0.34088848594741616\n",
      "confusion matrix\n",
      " [[7751  189]\n",
      " [ 727  376]]\n",
      "====Iteration 3  ====\n",
      "AuC 0.6564178240475862\n",
      "accuracy 0.9006966714585868\n",
      "precision 0.6230088495575221\n",
      "recall 0.3394406943105111\n",
      "confusion matrix\n",
      " [[7793  213]\n",
      " [ 685  352]]\n",
      "====Iteration 4  ====\n",
      "AuC 0.6584398523251191\n",
      "accuracy 0.9036824062811014\n",
      "precision 0.6635514018691588\n",
      "recall 0.33938814531548755\n",
      "confusion matrix\n",
      " [[7817  180]\n",
      " [ 691  355]]\n"
     ]
    }
   ],
   "source": [
    "# Fitting the model on reduced dataset\n",
    "from sklearn.model_selection import validation_curve\n",
    "from sklearn.pipeline import make_pipeline\n",
    "from sklearn.preprocessing import PolynomialFeatures\n",
    "\n",
    "degrees = np.arange(1, 2)\n",
    "\n",
    "model = make_pipeline(StandardScaler(),LogisticRegression(penalty='l2', C=1.0, class_weight=None))\n",
    "\n",
    "for iter_num, (train_indices, test_indices) in enumerate(cv_object.split(X,y)):\n",
    "    X_train = X[train_indices]\n",
    "    y_train = y[train_indices]\n",
    "    \n",
    "    X_test = X[test_indices]\n",
    "    y_test = y[test_indices]\n",
    "       \n",
    "    # train the reusable logisitc regression model on the training data\n",
    "    model.fit(X_train,y_train)  # train object\n",
    "    y_hat = model.predict(X_test) # get test set precitions\n",
    "\n",
    "    # now let's get the accuracy and confusion matrix for this iterations of training/testing\n",
    "    acc = mt.accuracy_score(y_test,y_hat)\n",
    "    pre = mt.precision_score(y_test,y_hat)\n",
    "    rec = mt.recall_score(y_test,y_hat)\n",
    "    conf = mt.confusion_matrix(y_test,y_hat)\n",
    "    auc = mt.roc_auc_score(y_test,y_hat)\n",
    "    print(\"====Iteration\",iter_num,\" ====\")\n",
    "    print(\"AuC\", auc )\n",
    "    print(\"accuracy\", acc )\n",
    "    print(\"precision\", pre)\n",
    "    print(\"recall\", rec)\n",
    "    print(\"confusion matrix\\n\",conf)"
   ]
  },
  {
   "cell_type": "markdown",
   "metadata": {},
   "source": [
    "As we can see from above output that even after performing recursive feature elimination(RFE), our model performance metrics are not very different from the that of initial simple logistic regression model. Hence, we would be keeping all features in model and rely upon regularization to prevent our model from overfitting. "
   ]
  },
  {
   "cell_type": "code",
   "execution_count": null,
   "metadata": {
    "collapsed": true
   },
   "outputs": [],
   "source": []
  }
 ],
 "metadata": {
  "kernelspec": {
   "display_name": "Python 3",
   "language": "python",
   "name": "python3"
  },
  "language_info": {
   "codemirror_mode": {
    "name": "ipython",
    "version": 3
   },
   "file_extension": ".py",
   "mimetype": "text/x-python",
   "name": "python",
   "nbconvert_exporter": "python",
   "pygments_lexer": "ipython3",
   "version": "3.6.3"
  }
 },
 "nbformat": 4,
 "nbformat_minor": 2
}
