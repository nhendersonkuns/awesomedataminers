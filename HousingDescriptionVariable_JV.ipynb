{
 "cells": [
  {
   "cell_type": "markdown",
   "metadata": {},
   "source": [
    "# Business Understanding (2nd Variable)\n",
    "\n",
    "The team decided that the variable housing would have interest to the banks as this could be an avenue for additional revenue for the industry.  Indivisuals and families that own homes could be swayed into refinancing homes for a lower interest rate.  These transactions though they may benefit the home owner but in the longer run the banks do come out ahead with fees and service transactions that must be paid.\n",
    "\n",
    "The housing variable is a binary response that is balanced, this variable represents \n",
    "\n",
    "From the figure 1 we can see several trends happening during the time of the data set:\n",
    "- Household savings increasing\n",
    "- Bank lending decreasing\n",
    "- Average wage increasing\n",
    "- Consumer spending decreasing\n",
    "_Figure 1:_\n",
    "![alt text](https://github.com/nhendersonkuns/awesomedataminers/raw/master/ReferenceMaterial/HousingReasons.PNG \"Key Indicators\")\n",
    "\n",
    "During the time of the data set the global recession was happening (figure 2), we can determine to prepare for the upcoming hardhips many individuals/families would attempt to save more of their disposable income which is what we see from the previous charts.  The banks could use this data to direct resources in an attempt to help these home owners refinance and save additional disposable income.\n",
    "\n",
    "_Figure 2:_\n",
    "![alt text](https://github.com/nhendersonkuns/awesomedataminers/raw/master/ReferenceMaterial/StockMarketCompare.PNG \"US vs Portugal Stock\")"
   ]
  },
  {
   "cell_type": "code",
   "execution_count": null,
   "metadata": {},
   "outputs": [],
   "source": []
  }
 ],
 "metadata": {
  "kernelspec": {
   "display_name": "Python 3",
   "language": "python",
   "name": "python3"
  },
  "language_info": {
   "codemirror_mode": {
    "name": "ipython",
    "version": 3
   },
   "file_extension": ".py",
   "mimetype": "text/x-python",
   "name": "python",
   "nbconvert_exporter": "python",
   "pygments_lexer": "ipython3",
   "version": "3.6.5"
  }
 },
 "nbformat": 4,
 "nbformat_minor": 2
}
