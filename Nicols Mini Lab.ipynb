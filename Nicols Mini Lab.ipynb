{
 "cells": [
  {
   "cell_type": "markdown",
   "metadata": {},
   "source": [
    "##This section goes after the section entitled look at the support vectors.  Need the numbers inserted below.\n",
    "\n",
    "Analysis of Support Vectors\n",
    "The total number of support vectors is # #\n",
    "The number of positive support vectors that subscribed are ##\n",
    "The number of support vectors that did not subscribe are ##"
   ]
  },
  {
   "cell_type": "code",
   "execution_count": null,
   "metadata": {
    "collapsed": true
   },
   "outputs": [],
   "source": [
    "# Analysis of Support Vectors\n",
    "\n",
    "#(I chose to use the code out of the class notebooks after re-watching the class video,\n",
    "# but if we want to use joint plots here is the site for that:\n",
    "# https://seaborn.pydata.org/generated/seaborn.jointplot.html)\n",
    "\n",
    "#----------------------------------------------\n",
    "\n",
    "# now lets see the statistics of these attributes\n",
    "from pandas.tools.plotting import boxplot\n",
    "\n",
    "# group the original data and the support vectors\n",
    "df_grouped_support = svm_clf.groupby(['Subscribed'])\n",
    "df_grouped = svm_clf.groupby(['Subscribed'])\n",
    "\n",
    "# plot KDE of Different variables (I chose the ones with the highest weights, is that right?)\n",
    "vars_to_plot = ['duration','poutcome_success','contact_unknown','housing_yes']\n",
    "\n",
    "# Need to fix the call out for 'did not subscribe' vs 'subscribe'.  i don't think we have a column for did not\n",
    "#subscribe, do we need to split that?\n",
    "for v in vars_to_plot:\n",
    "    plt.figure(figsize=(10,4))\n",
    "    # plot support vector stats\n",
    "    plt.subplot(1,2,1)\n",
    "    ax = df_grouped_support[v].plot.kde() \n",
    "    plt.legend(['Did Not Subscribe','Subscribed'])\n",
    "    plt.title(v+' (Instances chosen as Support Vectors)')\n",
    "    \n",
    "    # plot original distributions\n",
    "    plt.subplot(1,2,2)\n",
    "    ax = df_grouped[v].plot.kde() \n",
    "    plt.legend(['Did Not Subscribe','Subscribed'])\n",
    "    plt.title(v+' (Original)')"
   ]
  }
 ],
 "metadata": {
  "kernelspec": {
   "display_name": "Python 3",
   "language": "python",
   "name": "python3"
  },
  "language_info": {
   "codemirror_mode": {
    "name": "ipython",
    "version": 3
   },
   "file_extension": ".py",
   "mimetype": "text/x-python",
   "name": "python",
   "nbconvert_exporter": "python",
   "pygments_lexer": "ipython3",
   "version": "3.6.3"
  }
 },
 "nbformat": 4,
 "nbformat_minor": 2
}
